{
 "cells": [
  {
   "cell_type": "markdown",
   "id": "96a93651-3ed3-40fb-8e10-996dd08e437a",
   "metadata": {},
   "source": [
    "# A simple elastic free-surface implementation\n",
    "\n",
    "#### Authors: \n",
    "#### Ed Caunt -- Devito Codes, 2025\n",
    "#### Thomas Cullison -- Stanford University, 2025"
   ]
  },
  {
   "cell_type": "markdown",
   "id": "a3fa298c-2750-4338-b942-c6e2e71df788",
   "metadata": {},
   "source": [
    "## Python and Devito System Level Imports and Verificiations"
   ]
  },
  {
   "cell_type": "code",
   "execution_count": null,
   "id": "5999784e-ef51-456d-92a7-6222e35e1395",
   "metadata": {
    "tags": []
   },
   "outputs": [],
   "source": [
    "import sys\n",
    "mypython = sys.executable\n",
    "print(mypython)"
   ]
  },
  {
   "cell_type": "code",
   "execution_count": null,
   "id": "dac5de00-07b7-4a7c-ac7f-08c5ce57c4a6",
   "metadata": {
    "tags": []
   },
   "outputs": [],
   "source": [
    "from os import environ as os_env\n",
    "\n",
    "os_env['DEVITO_LANGUAGE'] = 'openmp'\n",
    "\n",
    "# Print all Devito env vars\n",
    "for key, value in os_env.items():\n",
    "    if 'DEVITO' in key:\n",
    "        print(f'{key}: {value}')\n",
    "        \n",
    "os_env['OMP_NUM_THREADS'] = '32'"
   ]
  },
  {
   "cell_type": "markdown",
   "id": "0dbb8cb4-ce76-4753-9978-f9204f18e1a5",
   "metadata": {},
   "source": [
    "#### Show Devito Verison"
   ]
  },
  {
   "cell_type": "code",
   "execution_count": null,
   "id": "ccab320e-0bbd-495d-9603-61c7152f81c7",
   "metadata": {
    "tags": []
   },
   "outputs": [],
   "source": [
    "!{mypython} -m pip show devito"
   ]
  },
  {
   "cell_type": "code",
   "execution_count": null,
   "id": "dccc7b49-afdf-4946-87ec-ffad9918a4af",
   "metadata": {
    "tags": []
   },
   "outputs": [],
   "source": [
    "!{mypython} --version"
   ]
  },
  {
   "cell_type": "markdown",
   "id": "9d3e7121-8b13-4ffd-9828-be32268b4479",
   "metadata": {},
   "source": [
    "## General Imports"
   ]
  },
  {
   "cell_type": "code",
   "execution_count": null,
   "id": "92346318-4113-446b-ac09-8e3fd29ccf40",
   "metadata": {
    "tags": []
   },
   "outputs": [],
   "source": [
    "import sympy\n",
    "\n",
    "import devito as dv\n",
    "import numpy as np\n",
    "import matplotlib.pyplot as plt\n",
    "\n",
    "from datetime import timedelta\n",
    "\n",
    "from devito.tools import memoized_func, as_tuple\n",
    "from examples.seismic import TimeAxis, RickerSource"
   ]
  },
  {
   "cell_type": "markdown",
   "id": "9cd8abb7-0937-4865-af32-f475f3633339",
   "metadata": {},
   "source": [
    "## Subsurface Model Paramters"
   ]
  },
  {
   "cell_type": "markdown",
   "id": "c5e61ded-9858-413d-be74-b04edfd959bc",
   "metadata": {},
   "source": [
    "### Model Geometry"
   ]
  },
  {
   "cell_type": "code",
   "execution_count": null,
   "id": "8f378a22-20ad-433b-a6d5-808950604564",
   "metadata": {},
   "outputs": [],
   "source": [
    "dxyz_try = 10.\n",
    "\n",
    "ex = 2560.\n",
    "ey = 2560.\n",
    "ez = 1920.\n",
    "gextent = (ex,ey,ez)\n",
    "\n",
    "ox = 0.\n",
    "oy = 0.\n",
    "oz = 0.\n",
    "gorigin = (ox,oy,oz)"
   ]
  },
  {
   "cell_type": "markdown",
   "id": "e110b730-4418-4441-9040-ff76989d665a",
   "metadata": {},
   "source": [
    "### Subsurface Model Values"
   ]
  },
  {
   "cell_type": "code",
   "execution_count": null,
   "id": "fc3e9c68-a4b4-47da-b1ed-0ec66f50d82d",
   "metadata": {},
   "outputs": [],
   "source": [
    "vp0 = 2.0\n",
    "vs0 = 1.25\n",
    "rh0 = 1.\n",
    "\n",
    "pscale = 1.5 #2.5\n",
    "\n",
    "vp1 = pscale*vp0\n",
    "vs1 = pscale*vs0\n",
    "rh1 = pscale*rh0"
   ]
  },
  {
   "cell_type": "markdown",
   "id": "0401ce46-a478-485a-95ce-9f7c3098bbfb",
   "metadata": {},
   "source": [
    "### Time and Frequency Parameters"
   ]
  },
  {
   "cell_type": "code",
   "execution_count": null,
   "id": "66aa2845-2c74-4667-bfc7-4b83b05c9dc5",
   "metadata": {},
   "outputs": [],
   "source": [
    "max_time = 600   # ms\n",
    "max_freq = 0.015 # mHz\n",
    "\n",
    "cfl_scale = 0.125 # emperical for stability for dt"
   ]
  },
  {
   "cell_type": "markdown",
   "id": "66e70a2c-c826-4e11-ad86-5aefc9c4180f",
   "metadata": {},
   "source": [
    "## Estimated Operations Per Seconds"
   ]
  },
  {
   "cell_type": "code",
   "execution_count": null,
   "id": "172f8550-ed04-43a3-9fec-89bcbd640b35",
   "metadata": {},
   "outputs": [],
   "source": [
    "emp_op_p_sec = 362644294.   # TAC: emperically determined using 32 cores and OpenMP backend, 1-node"
   ]
  },
  {
   "cell_type": "markdown",
   "id": "3b58a566-d193-4b67-a075-1e94ca8991b6",
   "metadata": {},
   "source": [
    "## Construct Devito Grid"
   ]
  },
  {
   "cell_type": "code",
   "execution_count": null,
   "id": "e1c366c4-cfd0-47ff-9eb9-a00673f0ec80",
   "metadata": {
    "tags": []
   },
   "outputs": [],
   "source": [
    "def calc_model_by_extent(extent,v_min,v_max,f_max,dxyz_try=None,cfl_scale=0.25,ppwl=8):\n",
    "    ex,ey,ez = extent\n",
    "    wavelen_min = v_min/float(f_max)\n",
    "    dxyz_max = wavelen_min/ppwl\n",
    "    if dxyz_try is not None:\n",
    "        if dxyz_try < dxyz_max:\n",
    "            dxyz_max = dxyz_try\n",
    "    dt = cfl_scale*dxyz_max/v_max\n",
    "    nx = int(np.ceil(ex/dxyz_max)) + 1\n",
    "    ny = int(np.ceil(ey/dxyz_max)) + 1\n",
    "    nz = int(np.ceil(ez/dxyz_max)) + 1\n",
    "    return (nx,ny,nz), dxyz_max, dt\n",
    "    "
   ]
  },
  {
   "cell_type": "code",
   "execution_count": null,
   "id": "4aad5d53-eafc-4947-8dbe-9e19013df0d7",
   "metadata": {},
   "outputs": [],
   "source": [
    "v_min = np.amin([vp0,vp1,vs0,vs1]).item()\n",
    "v_max = np.amax([vp0,vp1,vs0,vs1]).item()\n",
    "print((v_min,v_max))"
   ]
  },
  {
   "cell_type": "code",
   "execution_count": null,
   "id": "896e9e07-d92b-45cc-91ae-5dff8c9f1d08",
   "metadata": {
    "tags": []
   },
   "outputs": [],
   "source": [
    "gshape, dxyz, dt = calc_model_by_extent(gextent,v_min,v_max,max_freq,dxyz_try=dxyz_try,cfl_scale=cfl_scale)"
   ]
  },
  {
   "cell_type": "code",
   "execution_count": null,
   "id": "62e05a48-a7d0-42de-b96d-4d7cc87ccc51",
   "metadata": {
    "tags": []
   },
   "outputs": [],
   "source": [
    "(gshape, dxyz, dt)"
   ]
  },
  {
   "cell_type": "code",
   "execution_count": null,
   "id": "a88f16bd-34ab-4099-a197-7ab0e55c0a5a",
   "metadata": {
    "tags": []
   },
   "outputs": [],
   "source": [
    "nx, ny, nz = gshape"
   ]
  },
  {
   "cell_type": "code",
   "execution_count": null,
   "id": "71570250-788c-40af-ae1b-fdf51867b50d",
   "metadata": {
    "tags": []
   },
   "outputs": [],
   "source": [
    "so = 8\n",
    "\n",
    "grid = dv.Grid(gshape, extent=gextent,origin=gorigin)\n",
    "dx,dy,dz = grid.spacing"
   ]
  },
  {
   "cell_type": "markdown",
   "id": "7cb497c4-0986-4715-b25a-31a3cf2a9a1a",
   "metadata": {},
   "source": [
    "## Devito Vector and Tensors Functions"
   ]
  },
  {
   "cell_type": "code",
   "execution_count": null,
   "id": "0d7f39a2-7c6b-4914-a22a-63cab86599c1",
   "metadata": {},
   "outputs": [],
   "source": [
    "v = dv.VectorTimeFunction(name='v', grid=grid, space_order=so, time_order=1)\n",
    "tau = dv.TensorTimeFunction(name='tau', grid=grid, space_order=so, time_order=1)"
   ]
  },
  {
   "cell_type": "code",
   "execution_count": null,
   "id": "df9f6642-ae29-49d0-b320-c9b832fd81c1",
   "metadata": {
    "tags": []
   },
   "outputs": [],
   "source": [
    "v"
   ]
  },
  {
   "cell_type": "code",
   "execution_count": null,
   "id": "71101dbe-d26e-4d29-820a-8ad4e1d2ba04",
   "metadata": {
    "tags": []
   },
   "outputs": [],
   "source": [
    "tau"
   ]
  },
  {
   "cell_type": "markdown",
   "id": "e5e53ddf-c3f9-44e1-88e1-9940eb42519c",
   "metadata": {},
   "source": [
    "## Devito Subsurface Model Functions"
   ]
  },
  {
   "cell_type": "markdown",
   "id": "6308ad2e-6ed3-477a-9069-74e79abfe31e",
   "metadata": {},
   "source": [
    "### Where to Start 2nd Layer"
   ]
  },
  {
   "cell_type": "code",
   "execution_count": null,
   "id": "21f42533-388e-4b24-9144-0261d0b63ed5",
   "metadata": {
    "tags": []
   },
   "outputs": [],
   "source": [
    "h_horizon = (70./151.)*nz #ez/3\n",
    "ihz = int(np.floor(h_horizon + 0.5))\n",
    "# ihz = 70\n",
    "ihz"
   ]
  },
  {
   "cell_type": "markdown",
   "id": "c906266c-7427-4602-9374-5f3e69f009e4",
   "metadata": {},
   "source": [
    "### Set Devito Model Values"
   ]
  },
  {
   "cell_type": "code",
   "execution_count": null,
   "id": "ccf21ae9-f4b2-4949-9c6a-77472c7184ea",
   "metadata": {},
   "outputs": [],
   "source": [
    "cp = dv.Function(name='cp', grid=grid)\n",
    "cs = dv.Function(name='cs', grid=grid)\n",
    "ro = dv.Function(name='ro', grid=grid)\n",
    "\n",
    "cp.data[:,:,:ihz] = vp0\n",
    "cs.data[:,:,:ihz] = vs0\n",
    "ro.data[:,:,:ihz] = rh0\n",
    "\n",
    "cp.data[:,:,ihz:] = vp1\n",
    "cs.data[:,:,ihz:] = vs1\n",
    "ro.data[:,:,ihz:] = rh1"
   ]
  },
  {
   "cell_type": "markdown",
   "id": "26f87c7b-ee4a-4976-ac36-bf681cee5308",
   "metadata": {},
   "source": [
    "### Derived Model Paramters"
   ]
  },
  {
   "cell_type": "code",
   "execution_count": null,
   "id": "5703d097-35d3-4847-aa1a-1e6721ed4428",
   "metadata": {},
   "outputs": [],
   "source": [
    "# Shorthands\n",
    "mu = cs**2*ro\n",
    "lam = (cp**2*ro - 2*mu)\n",
    "b = 1/ro"
   ]
  },
  {
   "cell_type": "markdown",
   "id": "56dad968-fcd1-4535-b8b2-b104ef708150",
   "metadata": {},
   "source": [
    "## Create Source"
   ]
  },
  {
   "cell_type": "code",
   "execution_count": null,
   "id": "593c87e2-df94-4b19-aa10-e7081b30204e",
   "metadata": {
    "tags": []
   },
   "outputs": [],
   "source": [
    "t0 = 0.\n",
    "tn = max_time\n",
    "\n",
    "time_range = TimeAxis(start=t0, stop=tn, step=dt)\n",
    "f0 = max_freq\n",
    "\n",
    "src = RickerSource(name='src', grid=grid, f0=f0, time_range=time_range, interpolation='sinc')\n",
    "src.coordinates.data[:] = 0.5*ex\n",
    "src.coordinates.data[:, -1] = 0."
   ]
  },
  {
   "cell_type": "code",
   "execution_count": null,
   "id": "1d449e2e-ed0f-4436-828a-48f30d55f180",
   "metadata": {},
   "outputs": [],
   "source": [
    "# The source injection term\n",
    "src_xx = src.inject(field=tau.forward[0, 0], expr=src)\n",
    "src_yy = src.inject(field=tau.forward[1, 1], expr=src)\n",
    "src_zz = src.inject(field=tau.forward[2, 2], expr=src)"
   ]
  },
  {
   "cell_type": "markdown",
   "id": "6c955cfd-fa75-4225-aa2b-a600c723ef8e",
   "metadata": {},
   "source": [
    "## Calculate Estimate Runtime for 32 Cores and for Single Core"
   ]
  },
  {
   "cell_type": "code",
   "execution_count": null,
   "id": "95caf170-9977-49f3-b7c9-20eb3c36decc",
   "metadata": {},
   "outputs": [],
   "source": [
    "num_op = np.prod(gshape)*len(time_range.time_values)\n",
    "est_run_sec = num_op/emp_op_p_sec\n",
    "est_run_time_str = str(timedelta(seconds=est_run_sec))\n",
    "est_co_run_time_str = str(timedelta(seconds=32*est_run_sec))\n",
    "print(f'Estimated Runtime 32 Cores: {est_run_time_str}') \n",
    "print(f'Estimated Single Core Runtime: {est_co_run_time_str}')"
   ]
  },
  {
   "cell_type": "markdown",
   "id": "cb0ee97a-eda1-4d86-b637-d2280b79a6f8",
   "metadata": {},
   "source": [
    "## Define Functions for Applying Free-surface BC"
   ]
  },
  {
   "cell_type": "code",
   "execution_count": null,
   "id": "19e5a674-7c11-4a41-a8cd-b812a053a48e",
   "metadata": {},
   "outputs": [],
   "source": [
    "# Free surface mirroring scheme\n",
    "#   * Antisymmetric mirror for stresses to impose txz=tyz=tzz=0\n",
    "#   * Particle velocities linearly extrapolated across boundary\n",
    "# Z-derivatives for extrapolation obtained by setting txz.dt, tyz.dt, tzz.dt to zero\n",
    "# in governing equations and rearranging.\n",
    "\n",
    "# These equations will take interior values and project them into the halo region\n",
    "# to create a suitable image imposing the (approximate) free surface boundary condition\n",
    "\n",
    "@memoized_func\n",
    "def fs_dim(z, so, z0):\n",
    "    return dv.CustomDimension(name=\"zfs\", parent=z, symbolic_min=1, symbolic_max=so+z0,\n",
    "                              symbolic_size=so)\n",
    "\n",
    "\n",
    "def mirror(grid, fields, r_coeff=-1):\n",
    "    \"\"\"\n",
    "    Generate the stencil that mirrors the field to implement a free surface\n",
    "\n",
    "    Parameters\n",
    "    ----------\n",
    "    grid: Grid\n",
    "        Computational grid\n",
    "    eq: Eq or List of Eq\n",
    "        Equation to apply mirror to\n",
    "    \"\"\"\n",
    "    eqs = []\n",
    "\n",
    "    z = grid.dimensions[-1]\n",
    "    z0 = 0\n",
    "\n",
    "    for u in as_tuple(fields):\n",
    "        if u == 0:\n",
    "            continue\n",
    "\n",
    "        # Get left (top) halo width and corresponding mirroring dim\n",
    "        sow = u.halo[z][0]\n",
    "        zfs = fs_dim(z, sow, z0)\n",
    "\n",
    "        sh = 1 if z in as_tuple(u.staggered) else 0\n",
    "        eqs.extend([dv.Eq(u._subs(z, z0 - zfs), r_coeff * u._subs(z, z0 + zfs - sh))])\n",
    "\n",
    "        if z not in as_tuple(u.staggered):\n",
    "            eqs.append(dv.Eq(u._subs(z, z0), 0))\n",
    "\n",
    "    return eqs\n",
    "\n",
    "\n",
    "def flux(grid, fields, gradient=0):\n",
    "    \"\"\"\n",
    "    Generate the stencil that extends the field to implement a flux\n",
    "\n",
    "    Parameters\n",
    "    ----------\n",
    "    grid: Grid\n",
    "        Computational grid\n",
    "    eq: Eq or List of Eq\n",
    "        Equation to apply flux to\n",
    "    \"\"\"\n",
    "    eqs = []\n",
    "\n",
    "    z = grid.dimensions[-1]\n",
    "    hz = z.spacing\n",
    "    z0 = 0\n",
    "\n",
    "    for u in as_tuple(fields):\n",
    "        if u == 0:\n",
    "            continue\n",
    "\n",
    "        # Get left (top) halo width and corresponding mirroring dim\n",
    "        sow = u.halo[z][0]\n",
    "        zfs = fs_dim(z, sow, z0)\n",
    "\n",
    "        sh = 1 if z in as_tuple(u.staggered) else 0\n",
    "        eqs.extend([dv.Eq(u._subs(z, z0 - zfs),\n",
    "                          u._subs(z, z0 + zfs - sh)\n",
    "                          + 2*(zfs - 0.5*sh)*hz*gradient._subs(z, z0 + zfs - sh))])\n",
    "\n",
    "    return eqs\n",
    "\n",
    "\n",
    "eqs_fs_tau = mirror(grid, (tau[0, 2], tau[1, 2], tau[2, 2]))\n",
    "\n",
    "eqs_fs_v = flux(grid, v[0].forward, gradient=-v[2].dx)\n",
    "eqs_fs_v += flux(grid, v[1].forward, gradient=-v[2].dy)\n",
    "eqs_fs_v += flux(grid, v[2].forward, gradient=-(lam/(lam+2*mu))*(v[0].dx + v[1].dy))"
   ]
  },
  {
   "cell_type": "code",
   "execution_count": null,
   "id": "a7cf3e22-e842-455a-b005-52a60e170efd",
   "metadata": {
    "tags": []
   },
   "outputs": [],
   "source": [
    "eqs_fs_v"
   ]
  },
  {
   "cell_type": "markdown",
   "id": "f2cdaaf0-fbbb-4969-b553-b281246b2be3",
   "metadata": {},
   "source": [
    "## Define PDE and Discrete Equations"
   ]
  },
  {
   "cell_type": "code",
   "execution_count": null,
   "id": "c74a79f3-211a-4137-96f3-379aa1bd093f",
   "metadata": {},
   "outputs": [],
   "source": [
    "# First order elastic wave equation\n",
    "pde_v = v.dt - ro*dv.div(tau)\n",
    "pde_tau = tau.dt - lam*dv.diag(dv.div(v.forward)) - mu*(dv.grad(v.forward) + dv.grad(v.forward).transpose(inner=False))\n",
    "\n",
    "# Time update\n",
    "u_v = dv.Eq(v.forward, dv.solve(pde_v, v.forward))\n",
    "u_tau = dv.Eq(tau.forward, dv.solve(pde_tau, tau.forward))"
   ]
  },
  {
   "cell_type": "code",
   "execution_count": null,
   "id": "8c20658c-7cba-4d4c-ae95-d86c19af7781",
   "metadata": {
    "tags": []
   },
   "outputs": [],
   "source": [
    "u_v"
   ]
  },
  {
   "cell_type": "code",
   "execution_count": null,
   "id": "b58a8998-21a6-401c-89a8-7bb15f5005a8",
   "metadata": {},
   "outputs": [],
   "source": [
    "u_tau"
   ]
  },
  {
   "cell_type": "markdown",
   "id": "412d77aa-3e9b-4a88-8b7e-b31d05575ca1",
   "metadata": {},
   "source": [
    "## Construct Devito Operator (order matters)"
   ]
  },
  {
   "cell_type": "code",
   "execution_count": null,
   "id": "a7bc7a7f-3708-421f-87f7-3c845969709a",
   "metadata": {},
   "outputs": [],
   "source": [
    "# Note: v free surface equations inserted before tau update\n",
    "op = dv.Operator([u_v] + eqs_fs_v + [u_tau] + src_xx + src_yy + src_zz + eqs_fs_tau)"
   ]
  },
  {
   "cell_type": "markdown",
   "id": "c752d08a-5a87-4501-a448-124cefe9a996",
   "metadata": {},
   "source": [
    "## Show Compiler Code of 'op'"
   ]
  },
  {
   "cell_type": "code",
   "execution_count": null,
   "id": "9d1eda89-ff96-4dc7-8bc6-375d88e6bb32",
   "metadata": {
    "tags": []
   },
   "outputs": [],
   "source": [
    "print(op.ccode)"
   ]
  },
  {
   "cell_type": "markdown",
   "id": "24ee78f5-8db7-4f51-a0f6-80c9a75bcc0b",
   "metadata": {},
   "source": [
    "## Run Propagator"
   ]
  },
  {
   "cell_type": "code",
   "execution_count": null,
   "id": "d6ff3e92-c290-4c30-83c1-7abe8ab63b97",
   "metadata": {},
   "outputs": [],
   "source": [
    "%%time\n",
    "op(dt=dt)"
   ]
  },
  {
   "cell_type": "markdown",
   "id": "191fda7f-f3f8-4f21-b520-5b31c4b67686",
   "metadata": {},
   "source": [
    "## Plot Wavefields"
   ]
  },
  {
   "cell_type": "markdown",
   "id": "c05c93a7-f51c-4a9c-a5bb-98427a0e7d11",
   "metadata": {},
   "source": [
    "### $\\tau_{xx}$"
   ]
  },
  {
   "cell_type": "code",
   "execution_count": null,
   "id": "bd664fe9-13ca-4284-9094-c5d693e8bfcf",
   "metadata": {},
   "outputs": [],
   "source": [
    "vmax = np.amax(np.abs(tau[0, 0].data[-1, 100]))\n",
    "plt.imshow(tau[0, 0].data[-1, 100].T, vmax=vmax, vmin=-vmax, cmap='seismic')\n",
    "plt.colorbar()\n",
    "plt.show()"
   ]
  },
  {
   "cell_type": "markdown",
   "id": "db646568-3941-469c-8d74-400aa2eecfe8",
   "metadata": {},
   "source": [
    "### $\\tau_{yy}$"
   ]
  },
  {
   "cell_type": "code",
   "execution_count": null,
   "id": "1724db35-3f66-4d72-871d-21bf7d2fa2db",
   "metadata": {},
   "outputs": [],
   "source": [
    "vmax = np.amax(np.abs(tau[1, 1].data[-1, 100]))\n",
    "plt.imshow(tau[1, 1].data[-1, 100].T, vmax=vmax, vmin=-vmax, cmap='seismic')\n",
    "plt.colorbar()\n",
    "plt.show()"
   ]
  },
  {
   "cell_type": "markdown",
   "id": "f2dc0157-262f-4582-998d-ab31be174862",
   "metadata": {},
   "source": [
    "### $\\tau_{zz}$"
   ]
  },
  {
   "cell_type": "code",
   "execution_count": null,
   "id": "0b5554e3-94b7-44cb-92aa-ee8281748707",
   "metadata": {},
   "outputs": [],
   "source": [
    "vmax = np.amax(np.abs(tau[2, 2].data[-1, 100]))\n",
    "plt.imshow(tau[2, 2].data[-1, 100].T, aspect='auto',vmax=vmax, vmin=-vmax, cmap='seismic')\n",
    "plt.colorbar()\n",
    "plt.show()"
   ]
  },
  {
   "cell_type": "markdown",
   "id": "83187e37-2684-4eee-b0fc-54e14693c96c",
   "metadata": {},
   "source": [
    "### Pressure Field $ = \\tau_{xx} + \\tau_{yy} + \\tau_{zz}$"
   ]
  },
  {
   "cell_type": "code",
   "execution_count": null,
   "id": "fd308977-7c52-4855-b4d5-4b74a1e86e4b",
   "metadata": {},
   "outputs": [],
   "source": [
    "p_field = tau[0, 0].data + tau[1, 1].data + tau[2, 2].data\n",
    "vmax = np.amax(np.abs(p_field))\n",
    "plt.imshow(p_field[-1,100].T, aspect='auto',vmax=vmax, vmin=-vmax, cmap='seismic')\n",
    "plt.colorbar()\n",
    "plt.show()"
   ]
  },
  {
   "cell_type": "markdown",
   "id": "bed42fb0-6d77-4ba6-810e-3180b4213bd2",
   "metadata": {},
   "source": [
    "### $\\tau_{xy}$"
   ]
  },
  {
   "cell_type": "code",
   "execution_count": null,
   "id": "92cca719-448d-49a6-b1f0-b085f1c98863",
   "metadata": {},
   "outputs": [],
   "source": [
    "vmax = np.amax(np.abs(tau[0, 1].data[-1, 100]))\n",
    "plt.imshow(tau[0, 1].data[-1, 100].T, vmax=vmax, vmin=-vmax, cmap='seismic')\n",
    "plt.colorbar()\n",
    "plt.show()"
   ]
  },
  {
   "cell_type": "markdown",
   "id": "a4c25f7b-cdcc-4e9f-89bb-1990b56631f7",
   "metadata": {},
   "source": [
    "### $\\tau_{xz}$"
   ]
  },
  {
   "cell_type": "code",
   "execution_count": null,
   "id": "35cddc99-4d17-410b-a6d9-0d01350d2fbe",
   "metadata": {},
   "outputs": [],
   "source": [
    "vmax = np.amax(np.abs(tau[0, 2].data[-1, 100]))\n",
    "plt.imshow(tau[0, 2].data[-1, 100].T, vmax=vmax, vmin=-vmax, cmap='seismic')\n",
    "plt.colorbar()\n",
    "plt.show()"
   ]
  },
  {
   "cell_type": "markdown",
   "id": "591ca30e-a373-4c2a-a7e4-ed29b0fecf27",
   "metadata": {
    "tags": []
   },
   "source": [
    "### $\\tau_{yz}$"
   ]
  },
  {
   "cell_type": "code",
   "execution_count": null,
   "id": "ddb6fa08-9c41-409c-9564-e80d23a74570",
   "metadata": {
    "tags": []
   },
   "outputs": [],
   "source": [
    "vmax = np.amax(np.abs(tau[1, 2].data[-1, 100]))\n",
    "plt.imshow(tau[1, 2].data[-1, 100].T, vmax=vmax, vmin=-vmax, cmap='seismic')\n",
    "plt.colorbar()\n",
    "plt.show()"
   ]
  },
  {
   "cell_type": "markdown",
   "id": "0cf99248-04e9-40b8-bc75-87dcea6b4e28",
   "metadata": {},
   "source": [
    "## Plotting Code for Butterfly/Slicer/Unfold View Shown in Slides and Report"
   ]
  },
  {
   "cell_type": "code",
   "execution_count": null,
   "id": "e4c2f590-8bf8-43ee-8c8b-c1438c219ccf",
   "metadata": {},
   "outputs": [],
   "source": [
    "import holoviews as hv\n",
    "import panel as pn\n",
    "from holoviews import streams\n",
    "hv.extension('bokeh')\n",
    "pn.extension()\n",
    "# pn.extension(debug=True)\n",
    "# pn.extension('bokeh')\n",
    "\n",
    "def interactive_3d_slicer(volume,\n",
    "                          overlay = None,\n",
    "                          src_coords=None, rec_coords=None,\n",
    "                          ox=0.,oy=0.,oz=0.,\n",
    "                          dx=1.,dy=1.,dz=1.,\n",
    "                          xprat=1.,yprat=1.,zprat=1.,\n",
    "                          isx=None,isy=None,isz=None,\n",
    "                          xc_init=None, yc_init=None, zc_init=None,\n",
    "                          xlabel='x',ylabel='y',zlabel='z',\n",
    "                          xunit=None, yunit=None, zunit=None,\n",
    "                          npixels=400,\n",
    "                          cmap='jet',\n",
    "                          ocmap='jet'):\n",
    "    \"\"\"\n",
    "    Create an interactive 3D slicer using HoloViews, Panel, and Streams with global color scaling.\n",
    "\n",
    "    Parameters:\n",
    "        volume (np.ndarray): 3D numpy array representing the data volume.\n",
    "    \"\"\"\n",
    "    # print(\"Starting Slicer\")\n",
    "    \n",
    "    fontsize={'xlabel': 16, 'ylabel': 16, 'ticks': 12}\n",
    "\n",
    "    # data volume size-by-index\n",
    "    x_size, y_size, z_size = volume.shape\n",
    "    \n",
    "\n",
    "    # Initial slice indices\n",
    "    if isx is None:\n",
    "        isx = x_size // 2\n",
    "    if isy is None:\n",
    "        isy = y_size // 2\n",
    "    if isz is None:\n",
    "        isz = z_size // 2\n",
    "    x_initial = xc_init if xc_init is not None else ox + dx*(isx)\n",
    "    y_initial = yc_init if yc_init is not None else oy + dy*(isy)\n",
    "    z_initial = zc_init if zc_init is not None else oz + dz*(isz)\n",
    "\n",
    "\n",
    "    # Color scaling\n",
    "    global_min, global_max = volume.min(), volume.max()\n",
    "\n",
    "    # Float Sliders\n",
    "    x_slider = pn.widgets.FloatSlider(name=xlabel, start=ox, end=ox+dx*(x_size - 1), value=x_initial,step=dx)\n",
    "    y_slider = pn.widgets.FloatSlider(name=ylabel, start=oy, end=oy+dy*(y_size - 1), value=y_initial,step=dy)\n",
    "    z_slider = pn.widgets.FloatSlider(name=zlabel, start=oz, end=oz+dz*(z_size - 1), value=z_initial,step=dz)\n",
    "    a_slider = pn.widgets.FloatSlider(name='Alpha', start=0, end=1, value=0.5, step=0.01)\n",
    "\n",
    "\n",
    "    # Streams: tie sliders to DynamicMap\n",
    "    z_stream = streams.Stream.define('Z', Z=z_initial)()\n",
    "    y_stream = streams.Stream.define('Y', Y=y_initial)()\n",
    "    x_stream = streams.Stream.define('X', X=x_initial)()\n",
    "    a_stream = streams.Stream.define('Alpha', alpha=0.5)()\n",
    "\n",
    "\n",
    "\n",
    "    # Plotting dims (e.g., width and heigh of panels) (separate from data volume dims)\n",
    "    # Scale plots by \"phyiscal ranges\"\n",
    "    pdims = [dx*xprat*x_size, dy*yprat*y_size, dz*zprat*z_size]\n",
    "    ipmax = np.argmax(pdims)\n",
    "\n",
    "    dmax = pdims[ipmax]\n",
    "    dscale = 1.0*npixels/dmax\n",
    "\n",
    "    x_psize = int(dscale*pdims[0] + 0.5)\n",
    "    y_psize = int(dscale*pdims[1] + 0.5)\n",
    "    z_psize = int(dscale*pdims[2] + 0.5)\n",
    "\n",
    "\n",
    "    # Internal functions: convert coord and index\n",
    "    def coord2index(c,oc,dc,):\n",
    "        return int((c - oc)/dc + 0.5)\n",
    "\n",
    "    def index2coord(i,oc,dc):\n",
    "        return oc + dc*i\n",
    "\n",
    "    # Units\n",
    "    pxlabel = xlabel if xunit is None else xlabel + f' ({xunit})'\n",
    "    pylabel = ylabel if yunit is None else ylabel + f' ({yunit})'\n",
    "    pzlabel = zlabel if zunit is None else zlabel + f' ({zunit})'\n",
    "\n",
    "\n",
    "    # Sources and Receivers\n",
    "    msize = 30\n",
    "    scolor = 'red'\n",
    "    slw = 3\n",
    "    rlw = 3\n",
    "    rcolor = 'yellow'\n",
    "    smark = '*'\n",
    "    rmark = 'inverted_triangle'\n",
    "    xy_src_markers = hv.Points([])\n",
    "    xz_src_markers = hv.Points([])\n",
    "    yz_src_markers = hv.Points([])\n",
    "    xy_rec_markers = hv.Points([])\n",
    "    xz_rec_markers = hv.Points([])\n",
    "    yz_rec_markers = hv.Points([])\n",
    "\n",
    "    if src_coords is not None:\n",
    "        xy_src_markers = hv.Points(src_coords[:,:-1]).opts(marker=smark, size=msize, color=scolor,line_width=slw)\n",
    "        xz_src_markers = hv.Points(src_coords[:,::2]).opts(marker=smark, size=msize, color=scolor,line_width=slw)\n",
    "        yz_src_markers = hv.Points(src_coords[:,::-1][:,:2]).opts(marker=smark, size=msize, color=scolor,line_width=slw)\n",
    "\n",
    "    if rec_coords is not None:\n",
    "        xy_rec_markers = hv.Points(rec_coords[:,:-1]).opts(marker=rmark, size=msize, color=rcolor,line_width=rlw)\n",
    "        xz_rec_markers = hv.Points(rec_coords[:,::2]).opts(marker=rmark, size=msize, color=rcolor,line_width=rlw)\n",
    "        yz_rec_markers = hv.Points(rec_coords[:,::-1][:,:2]).opts(marker=rmark, size=msize, color=rcolor,line_width=rlw)\n",
    "\n",
    "\n",
    "    # XY Slice\n",
    "    def slice_xy(Z, Y, X,alpha):\n",
    "        iz = coord2index(Z,oz,dz)\n",
    "        base_image = hv.Image((ox + dx*np.arange(x_size), oy+dy*np.arange(y_size), volume[:, :, iz].T)).opts(\n",
    "            xlabel=pxlabel, ylabel=pylabel, cmap=cmap, invert_yaxis=False, clim=(global_min, global_max),\n",
    "            toolbar=None, width=x_psize, height=y_psize, xaxis='top',fontsize=fontsize)\n",
    "\n",
    "        # Check if extra_image_data is provided\n",
    "        composite_image = None\n",
    "        if overlay is not None:\n",
    "            overlay_image = hv.Image((ox + dx*np.arange(x_size), oy+dy*np.arange(y_size), overlay[:, :, iz].T)).opts(\n",
    "                alpha=alpha,  # Set the opacity level\n",
    "                cmap=ocmap  # Optionally set a different colormap for the overlay\n",
    "            )\n",
    "            composite_image = base_image * overlay_image\n",
    "        else:\n",
    "            composite_image = base_image\n",
    "\n",
    "        return (composite_image *\n",
    "                hv.HLine(Y).opts(color='yellow', line_width=2) *\n",
    "                hv.VLine(X).opts(color='yellow', line_width=2) *\n",
    "                xy_src_markers *\n",
    "                xy_rec_markers)\n",
    "\n",
    "\n",
    "    # XZ Slice\n",
    "    def slice_xz(Y, Z, X, alpha):\n",
    "        iy = coord2index(Y,oy,dy)\n",
    "        base_image = hv.Image((ox+dx*np.arange(x_size), oz+dz*np.arange(z_size), volume[:, iy, :].T)).opts(\n",
    "            xlabel=pxlabel, ylabel=pzlabel, cmap=cmap, invert_yaxis=True, clim=(global_min, global_max),\n",
    "            toolbar=None, width=x_psize, height=z_psize, yaxis='left',fontsize=fontsize)\n",
    "\n",
    "        # Check if extra_image_data is provided\n",
    "        composite_image = None\n",
    "        if overlay is not None:\n",
    "            overlay_image = hv.Image((ox+dx*np.arange(x_size), oz+dz*np.arange(z_size), overlay[:, iy, :].T)).opts(\n",
    "                alpha=alpha,  # Set the opacity level\n",
    "                cmap=ocmap  # Optionally set a different colormap for the overlay\n",
    "            )\n",
    "            composite_image = base_image * overlay_image\n",
    "        else:\n",
    "            composite_image = base_image\n",
    "\n",
    "        return (composite_image *\n",
    "                hv.HLine(Z).opts(color='yellow', line_width=2) *\n",
    "                hv.VLine(X).opts(color='yellow', line_width=2) *\n",
    "                xz_src_markers *\n",
    "                xz_rec_markers)\n",
    "\n",
    "    # YZ Slice\n",
    "    def slice_yz(X, Z, Y, alpha):\n",
    "        ix = coord2index(X, ox, dx)\n",
    "        base_image = hv.Image((oz + dz * np.arange(z_size), oy + dy * np.arange(y_size), volume[ix, :, :])).opts(\n",
    "            xlabel=pzlabel, ylabel=pylabel, cmap=cmap, invert_xaxis=False, clim=(global_min, global_max),\n",
    "            toolbar=None, width=z_psize, height=y_psize, yaxis='right', xaxis='top',fontsize=fontsize)\n",
    "\n",
    "        # Check if extra_image_data is provided\n",
    "        composite_image = None\n",
    "        if overlay is not None:\n",
    "            overlay_image = hv.Image((oz + dz * np.arange(z_size), oy + dy * np.arange(y_size), overlay[ix,:,:])).opts(\n",
    "                alpha=alpha,  # Set the opacity level\n",
    "                cmap=ocmap  # Optionally set a different colormap for the overlay\n",
    "            )\n",
    "            composite_image = base_image * overlay_image\n",
    "        else:\n",
    "            composite_image = base_image\n",
    "\n",
    "        return (composite_image *\n",
    "                hv.VLine(Z).opts(color='yellow', line_width=2) *\n",
    "                hv.HLine(Y).opts(color='yellow', line_width=2) *\n",
    "                yz_src_markers *\n",
    "                yz_rec_markers)\n",
    "\n",
    "\n",
    "    # Dynamic Maps for each slice\n",
    "    dmap_xy = hv.DynamicMap(slice_xy, streams=[z_stream, y_stream, x_stream, a_stream])\n",
    "    dmap_xz = hv.DynamicMap(slice_xz, streams=[y_stream, z_stream, x_stream, a_stream])\n",
    "    dmap_yz = hv.DynamicMap(slice_yz, streams=[x_stream, z_stream, y_stream, a_stream])\n",
    "\n",
    "    # Blank panel\n",
    "    blank_panel = hv.Text(0.5, 0.5, '').opts(width=z_psize, height=z_psize, xaxis=None, yaxis=None, border=0)\n",
    "\n",
    "    # Arrange the layout in a 2x2 grid\n",
    "    layout = ((dmap_xy + dmap_yz) + (dmap_xz + blank_panel)).cols(2)\n",
    "    layout = layout.opts(shared_axes=False)\n",
    "\n",
    "\n",
    "    print(\"Setup complete, callbacks should be active.\")\n",
    "\n",
    "    # Update Streams from slider values\n",
    "    def update_z(event):\n",
    "        # print(\"Z slider updated:\", event.new)\n",
    "        z_stream.event(Z=event.new)\n",
    "\n",
    "    def update_y(event):\n",
    "        y_stream.event(Y=event.new)\n",
    "\n",
    "    def update_x(event):\n",
    "        x_stream.event(X=event.new)\n",
    "\n",
    "    def update_a(event):\n",
    "        a_stream.event(alpha=event.new)\n",
    "\n",
    "    # Attach event watcher\n",
    "    x_slider.param.watch(update_x, 'value')\n",
    "    y_slider.param.watch(update_y, 'value')\n",
    "    z_slider.param.watch(update_z, 'value')\n",
    "    a_slider.param.watch(update_a, 'value')\n",
    "\n",
    "    # layout = pn.Row(pn.Column(x_slider, y_slider, z_slider, a_slider), xy_slice_view)\n",
    "\n",
    "    \n",
    "    return pn.Row(pn.Column(x_slider, y_slider, z_slider, a_slider), layout)"
   ]
  },
  {
   "cell_type": "markdown",
   "id": "31a11c6c-8a2b-4054-99c6-a0d665f08adb",
   "metadata": {},
   "source": [
    "## Show Plots\n",
    "\n",
    "**Note**: sliders may not work depending on Python or Jupyter environments (they work in Colab as of May 2025)"
   ]
  },
  {
   "cell_type": "markdown",
   "id": "6ec2d626-19e3-472e-8820-d23ef91afe9a",
   "metadata": {},
   "source": [
    "### Pressure-Field Overlay on Model"
   ]
  },
  {
   "cell_type": "code",
   "execution_count": null,
   "id": "dcdc5542-99c2-4c08-991a-641004a853c3",
   "metadata": {
    "tags": []
   },
   "outputs": [],
   "source": [
    "splot = np.array(p_field[-1])\n",
    "vmax = 0.05*np.abs(splot).max()\n",
    "splot = np.clip(splot,a_min=-vmax,a_max=vmax)"
   ]
  },
  {
   "cell_type": "code",
   "execution_count": null,
   "id": "98b12062-290d-4486-8c02-6703527b0ba0",
   "metadata": {
    "tags": []
   },
   "outputs": [],
   "source": [
    "vp_plot = np.array(cp.data)\n",
    "vp_plot *= vmax/vp_plot.max()"
   ]
  },
  {
   "cell_type": "code",
   "execution_count": null,
   "id": "595f02e0-2ec4-4489-96d0-939475aa2ed0",
   "metadata": {},
   "outputs": [],
   "source": [
    "slicer = interactive_3d_slicer(vp_plot,\n",
    "                               overlay=splot,\n",
    "                               src_coords=src.coordinates.data,\n",
    "                               dx=dx,\n",
    "                               dy=dy,\n",
    "                               dz=dz,\n",
    "                               xunit='m',\n",
    "                               yunit='m',\n",
    "                               zunit='m',\n",
    "                               zc_init=20,\n",
    "                               npixels=600,\n",
    "                               cmap='seismic',\n",
    "                               ocmap='gray')"
   ]
  },
  {
   "cell_type": "code",
   "execution_count": null,
   "id": "e20ef73f-fc6b-446e-a4df-0f67222b4f59",
   "metadata": {},
   "outputs": [],
   "source": [
    "slicer"
   ]
  },
  {
   "cell_type": "markdown",
   "id": "400a40ad-64b9-433e-ad14-61f3c4fd3b31",
   "metadata": {},
   "source": [
    "### $v_x$ Overlay on Pressure-Field"
   ]
  },
  {
   "cell_type": "code",
   "execution_count": null,
   "id": "01c683bb-f445-4cfe-b548-365fb399b561",
   "metadata": {
    "tags": []
   },
   "outputs": [],
   "source": [
    "vx_plot = np.array(v[0].data[-1])\n",
    "vx_plot /= np.abs(vx_plot).max()\n",
    "vx_plot *= 3*vmax"
   ]
  },
  {
   "cell_type": "code",
   "execution_count": null,
   "id": "5e97f376-2154-4d92-b68d-3e476466e860",
   "metadata": {
    "tags": []
   },
   "outputs": [],
   "source": [
    "slicer = interactive_3d_slicer(splot,\n",
    "                               overlay=vx_plot,\n",
    "                               src_coords=src.coordinates.data,\n",
    "                               dx=dx,\n",
    "                               dy=dy,\n",
    "                               dz=dz,\n",
    "                               xunit='m',\n",
    "                               yunit='m',\n",
    "                               zunit='m',\n",
    "                               zc_init=200,\n",
    "                               npixels=600,\n",
    "                               cmap='gray',\n",
    "                               ocmap='seismic')"
   ]
  },
  {
   "cell_type": "code",
   "execution_count": null,
   "id": "1b2bedbc-731f-4ef6-83c9-ce8fa8f44a45",
   "metadata": {
    "tags": []
   },
   "outputs": [],
   "source": [
    "slicer"
   ]
  },
  {
   "cell_type": "code",
   "execution_count": null,
   "id": "4c1a7aa4-863f-4747-8035-713db6b90063",
   "metadata": {},
   "outputs": [],
   "source": []
  }
 ],
 "metadata": {
  "environment": {
   "kernel": "conda-base-py",
   "name": "workbench-notebooks.m125",
   "type": "gcloud",
   "uri": "us-docker.pkg.dev/deeplearning-platform-release/gcr.io/workbench-notebooks:m125"
  },
  "kernelspec": {
   "display_name": "Python 3 (ipykernel) (Local)",
   "language": "python",
   "name": "conda-base-py"
  },
  "language_info": {
   "codemirror_mode": {
    "name": "ipython",
    "version": 3
   },
   "file_extension": ".py",
   "mimetype": "text/x-python",
   "name": "python",
   "nbconvert_exporter": "python",
   "pygments_lexer": "ipython3",
   "version": "3.10.15"
  }
 },
 "nbformat": 4,
 "nbformat_minor": 5
}
