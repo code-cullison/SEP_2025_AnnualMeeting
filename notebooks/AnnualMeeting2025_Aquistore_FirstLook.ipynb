{
 "cells": [
  {
   "cell_type": "markdown",
   "id": "0daa8c10",
   "metadata": {},
   "source": [
    "# Aquistore Data Processing and Figures for 2025 Annual SEP Meeting: Aquistore DAS First Look Report\n",
    "\n",
    "<br>\n",
    "\n",
    "Author: Thomas Cullison, Stanford University\n",
    "\n",
    "<br>"
   ]
  },
  {
   "cell_type": "markdown",
   "id": "4db8f1be",
   "metadata": {},
   "source": [
    "## Evironment Setup"
   ]
  },
  {
   "cell_type": "markdown",
   "id": "fcea611c",
   "metadata": {},
   "source": [
    "### Auto Import"
   ]
  },
  {
   "cell_type": "code",
   "execution_count": 1,
   "id": "55d2aed4",
   "metadata": {},
   "outputs": [],
   "source": [
    "%load_ext autoreload\n",
    "%autoreload 2"
   ]
  },
  {
   "cell_type": "markdown",
   "id": "f50f76ed",
   "metadata": {},
   "source": [
    "### Verify Python EXE Path"
   ]
  },
  {
   "cell_type": "code",
   "execution_count": null,
   "id": "2ee8faf3",
   "metadata": {},
   "outputs": [],
   "source": [
    "from sys import executable as mypyexe\n",
    "print(mypyexe)"
   ]
  },
  {
   "cell_type": "code",
   "execution_count": null,
   "id": "b15a35d5",
   "metadata": {},
   "outputs": [],
   "source": [
    "!which {mypyexe}"
   ]
  },
  {
   "cell_type": "markdown",
   "id": "199bdf11",
   "metadata": {},
   "source": [
    "### Common Imports"
   ]
  },
  {
   "cell_type": "code",
   "execution_count": 4,
   "id": "bc7a5655",
   "metadata": {},
   "outputs": [],
   "source": [
    "# import pynmea2\n",
    "import folium\n",
    "import utm\n",
    "import re\n",
    "\n",
    "import numpy as np\n",
    "import pandas as pd\n",
    "\n",
    "import matplotlib.pyplot as plt\n",
    "import matplotlib.patches as patches\n",
    "\n",
    "from copy import deepcopy\n",
    "from time import time\n",
    "from functools import partial\n",
    "\n",
    "from IPython.display import display, HTML\n",
    "\n",
    "from matplotlib.ticker import FixedLocator\n",
    "from matplotlib.ticker import FormatStrFormatter\n",
    "\n",
    "from scipy.ndimage import median_filter\n",
    "from scipy.signal import detrend as sci_detrend\n",
    "\n",
    "from pathlib import Path as plib_path\n",
    "from os.path import join as os_p_join\n",
    "\n",
    "from copy import deepcopy as dcopy"
   ]
  },
  {
   "cell_type": "markdown",
   "id": "d0ce0060",
   "metadata": {},
   "source": [
    "### Import SeisBear functions"
   ]
  },
  {
   "cell_type": "code",
   "execution_count": 5,
   "id": "2f872982",
   "metadata": {},
   "outputs": [],
   "source": [
    "from seisbear.core import _write_seisbear, _read_segyio, _read_seisbear, _merge_file_headers\n",
    "from seisbear.mapping import get_html_folium_map,  _make_marker_dict, _make_folium_group_from_dict, _make_folium_base_map, _get_latlot_means, _add_folium_groups_to_map"
   ]
  },
  {
   "cell_type": "markdown",
   "id": "c7a98eec",
   "metadata": {},
   "source": [
    "### Import Aquistore functions"
   ]
  },
  {
   "cell_type": "code",
   "execution_count": 6,
   "id": "09ad0305",
   "metadata": {},
   "outputs": [],
   "source": [
    "from aquistore.core import _read_sp1, _load_aquistore_das_seisbear"
   ]
  },
  {
   "cell_type": "markdown",
   "id": "3715e354",
   "metadata": {},
   "source": [
    "## Read SP1 file and save to DataFrame\n",
    "\n",
    "<br>\n",
    "This file has coordinate locations for all boreholes"
   ]
  },
  {
   "cell_type": "code",
   "execution_count": 7,
   "id": "6a728fed",
   "metadata": {},
   "outputs": [],
   "source": [
    "sp1_path = \"/shared/data/aquistore/Aquistore_4D_Fibre_Locations_NRCAN_8313.Sp1\""
   ]
  },
  {
   "cell_type": "code",
   "execution_count": null,
   "id": "8c5537f2",
   "metadata": {},
   "outputs": [],
   "source": [
    "sp1_df = _read_sp1(sp1_path)\n",
    "display(sp1_df)"
   ]
  },
  {
   "cell_type": "markdown",
   "id": "c6530143",
   "metadata": {},
   "source": [
    "### Show attrs for SP1 DataFrame"
   ]
  },
  {
   "cell_type": "code",
   "execution_count": null,
   "id": "d38e8f3c",
   "metadata": {},
   "outputs": [],
   "source": [
    "display(sp1_df.attrs['header'])\n",
    "display(sp1_df.attrs['easting-northing units'])\n",
    "display(sp1_df.attrs['zone'])"
   ]
  },
  {
   "cell_type": "markdown",
   "id": "21abb6ba",
   "metadata": {},
   "source": [
    "## Read DAS Data Files"
   ]
  },
  {
   "cell_type": "markdown",
   "id": "f833f2d8",
   "metadata": {},
   "source": [
    "### Set Path to Data Files"
   ]
  },
  {
   "cell_type": "code",
   "execution_count": 10,
   "id": "2dd99b54",
   "metadata": {},
   "outputs": [],
   "source": [
    "data_path = '/shared/data/aquistore'"
   ]
  },
  {
   "cell_type": "markdown",
   "id": "f939cdf1",
   "metadata": {},
   "source": [
    "### Read DAS Data from seisbear Files"
   ]
  },
  {
   "cell_type": "code",
   "execution_count": 11,
   "id": "08636aac",
   "metadata": {},
   "outputs": [],
   "source": [
    "hset_df, dlst = _load_aquistore_das_seisbear(data_path)"
   ]
  },
  {
   "cell_type": "markdown",
   "id": "72459836",
   "metadata": {},
   "source": [
    "### Show File and Channel (Trace) Headers"
   ]
  },
  {
   "cell_type": "code",
   "execution_count": null,
   "id": "4fdd85cd",
   "metadata": {},
   "outputs": [],
   "source": [
    "hset_df"
   ]
  },
  {
   "cell_type": "code",
   "execution_count": null,
   "id": "18c006b3",
   "metadata": {},
   "outputs": [],
   "source": [
    "hset_df.attrs['EBCDIC_Headers'][0]"
   ]
  },
  {
   "cell_type": "markdown",
   "id": "4a126e8a",
   "metadata": {},
   "source": [
    "### Get All Source Coordinates"
   ]
  },
  {
   "cell_type": "code",
   "execution_count": null,
   "id": "95888fb0",
   "metadata": {},
   "outputs": [],
   "source": [
    "src_latlon_df = hset_df.drop_duplicates(subset=['SourceLat', 'SourceLon'])[['SourceLat', 'SourceLon', 'SourceX', 'SourceY']]\n",
    "src_latlon_df"
   ]
  },
  {
   "cell_type": "markdown",
   "id": "c1049ba5",
   "metadata": {},
   "source": [
    "### Get Channel (receiver) Coordinates"
   ]
  },
  {
   "cell_type": "code",
   "execution_count": null,
   "id": "0af4435b",
   "metadata": {},
   "outputs": [],
   "source": [
    "rec_latlon_df = hset_df.drop_duplicates(subset=['GroupLat', 'GroupLon'])[['GroupLat', 'GroupLon', 'GroupX', 'GroupY']]\n",
    "rec_latlon_df"
   ]
  },
  {
   "cell_type": "markdown",
   "id": "088d0e01",
   "metadata": {},
   "source": [
    "### Get Borehole Cordinates Where There is DAS Fiber"
   ]
  },
  {
   "cell_type": "code",
   "execution_count": 16,
   "id": "c4093c73",
   "metadata": {},
   "outputs": [],
   "source": [
    "idas_overlap_beg = 38 #TAC: starting index where das and boreholes haverlap coordinates (empirically determined)\n",
    "boredas_df = sp1_df[idas_overlap_beg:]"
   ]
  },
  {
   "cell_type": "markdown",
   "id": "3fb09710",
   "metadata": {},
   "source": [
    "#### SEGY Headers for Water-Depth Has \"is borehole\" Groupings"
   ]
  },
  {
   "cell_type": "code",
   "execution_count": null,
   "id": "5093334c",
   "metadata": {},
   "outputs": [],
   "source": [
    "borehdr_df = hset_df[hset_df['FileIndex']==0]\n",
    "borehdr_df = borehdr_df[borehdr_df[\"GroupWaterDepth\"] != 0] # TAC: ignore channels with WaterDepth = 0\n",
    "bhdr_latlon_df = borehdr_df.drop_duplicates(subset=['GroupLat', 'GroupLon'])[['GroupLat', 'GroupLon', 'GroupX', 'GroupY']]\n",
    "bhdr_latlon_df['BoreIndex'] = range(len(bhdr_latlon_df))\n",
    "bhdr_latlon_df.iloc[:4]"
   ]
  },
  {
   "cell_type": "markdown",
   "id": "fa031eb5",
   "metadata": {},
   "source": [
    "## Show Overview Field Map"
   ]
  },
  {
   "cell_type": "code",
   "execution_count": 18,
   "id": "61dec5f2",
   "metadata": {},
   "outputs": [],
   "source": [
    "m_width = 1200\n",
    "m_height = (1/1.66666)*m_width\n",
    "\n",
    "glst = []\n",
    "bore_d = _make_marker_dict(bhdr_latlon_df,kw_lat='GroupLat',kw_lon='GroupLon',color='black',mname='BORE',symbol=\"▽\",sympt='12')\n",
    "bore_g = _make_folium_group_from_dict(bore_d,gname='DAS Boreholes')\n",
    "abore_d = _make_marker_dict(sp1_df,kw_lat='Latitude',kw_lon='Longitude',color='black',mname='BORE',symbol=\"▼\",sympt='12')\n",
    "abore_g = _make_folium_group_from_dict(abore_d,gname='All Boreholes')\n",
    "src_d = _make_marker_dict(src_latlon_df,kw_lat='SourceLat',kw_lon='SourceLon',color='red',mname='SRC',symbol='★')\n",
    "src_g = _make_folium_group_from_dict(src_d,gname='All Sources')\n",
    "rec_d = _make_marker_dict(rec_latlon_df,kw_lat='GroupLat',kw_lon='GroupLon',color='blue',mname='REC',symbol='▽',sympt='12')\n",
    "rec_g = _make_folium_group_from_dict(rec_d,gname='All Channels')\n",
    "\n",
    "glst.append(src_g)\n",
    "glst.append(bore_g)\n",
    "glst.append(abore_g)\n",
    "glst.append(rec_g)\n",
    "\n",
    "clat,clon = _get_latlot_means(rec_latlon_df,kw_lat='GroupLat',kw_lon='GroupLon')\n",
    "\n",
    "base_map = _make_folium_base_map(clat,clon,zoom_start=14)\n",
    "\n",
    "my_map = _add_folium_groups_to_map(glst,base_map)"
   ]
  },
  {
   "cell_type": "markdown",
   "id": "77b9d6ca",
   "metadata": {},
   "source": [
    "### Convert Folium Map to HTML and Display"
   ]
  },
  {
   "cell_type": "code",
   "execution_count": null,
   "id": "f673f013",
   "metadata": {},
   "outputs": [],
   "source": [
    "m_html = get_html_folium_map(my_map,width=m_width,height=m_height)\n",
    "display(m_html)"
   ]
  },
  {
   "cell_type": "markdown",
   "id": "95aa1269",
   "metadata": {},
   "source": [
    "### Save Map to HTML File"
   ]
  },
  {
   "cell_type": "code",
   "execution_count": null,
   "id": "19e146cf",
   "metadata": {},
   "outputs": [],
   "source": [
    " map_fname = data_path + '/field_overview_map.html'\n",
    "print(map_fname)"
   ]
  },
  {
   "cell_type": "code",
   "execution_count": 21,
   "id": "e8eaf946",
   "metadata": {},
   "outputs": [],
   "source": [
    "# my_map.save(map_fname)"
   ]
  },
  {
   "cell_type": "markdown",
   "id": "1b6e5221",
   "metadata": {},
   "source": [
    "## Get Borehole Channel Indices"
   ]
  },
  {
   "cell_type": "code",
   "execution_count": 22,
   "id": "f2abdc3f",
   "metadata": {},
   "outputs": [],
   "source": [
    "file_df = hset_df[hset_df['FileIndex'] == 0] #TAC: We just need one file"
   ]
  },
  {
   "cell_type": "code",
   "execution_count": null,
   "id": "9a44264d",
   "metadata": {},
   "outputs": [],
   "source": [
    "file_df[file_df[\"GroupWaterDepth\"] != 0]"
   ]
  },
  {
   "cell_type": "code",
   "execution_count": null,
   "id": "eb6d23be",
   "metadata": {},
   "outputs": [],
   "source": [
    "is_bore = file_df[\"GroupWaterDepth\"] != 0\n",
    "is_bore = is_bore.to_numpy()\n",
    "isbl = is_bore[:-1]\n",
    "isbr = is_bore[1:]\n",
    "is_bore_p1 = is_bore.copy()\n",
    "is_bore_p1[1:] = is_bore_p1[1:] | isbl\n",
    "is_bore_p1[:-1] = is_bore_p1[:-1] | isbr\n",
    "is_surf = ~is_bore\n",
    "is_surf_p1 = ~is_bore_p1\n",
    "ibore_mask = file_df.index.to_numpy()[is_bore]\n",
    "isurf_mask = file_df.index.to_numpy()[is_surf]\n",
    "ibore_mask_p1 = file_df.index.to_numpy()[is_bore_p1]\n",
    "isurf_mask_p1 = file_df.index.to_numpy()[is_surf_p1]\n",
    "print(len(ibore_mask))\n",
    "print(len(isurf_mask))\n",
    "assert len(isurf_mask)+len(ibore_mask) == len(file_df)"
   ]
  },
  {
   "cell_type": "markdown",
   "id": "edd8198c",
   "metadata": {},
   "source": [
    "## Preprocess DAS Data"
   ]
  },
  {
   "cell_type": "code",
   "execution_count": 25,
   "id": "49038b56",
   "metadata": {},
   "outputs": [],
   "source": [
    "from scipy import signal\n",
    "\n",
    "def butter_bandpass(data,fs=None,b0=None,bN=None,axis=-1,order=5,**kwargs):\n",
    "\n",
    "    bmode = 'bandpass'\n",
    "    bands = (b0,bN)\n",
    "\n",
    "    if b0 is None and bN is None:\n",
    "        raise Exception('b0 and bN are both None')\n",
    "    if b0 is None:\n",
    "        bmode = 'lowpass'\n",
    "        bands = (bN)\n",
    "    elif bN is None:\n",
    "        bmode = 'highpass'\n",
    "        bands = (b0)\n",
    "\n",
    "    sos = signal.butter(order, bands, bmode, fs=fs, output='sos')\n",
    "    return signal.sosfiltfilt(sos,data,axis)\n"
   ]
  },
  {
   "cell_type": "code",
   "execution_count": 26,
   "id": "d709fa47",
   "metadata": {},
   "outputs": [],
   "source": [
    "proc_lst = []\n",
    "for data in dlst:\n",
    "    dmed_data = sci_detrend(data,type='constant',axis=-1)\n",
    "    dlin_data = sci_detrend(dmed_data,type='linear',axis=-1)\n",
    "    butter_data = butter_bandpass(data,fs=1000,b0=0.5,bN=50)\n",
    "    rms_norm = np.sqrt(np.mean(butter_data**2, axis=1, keepdims=True))\n",
    "    norm_data = butter_data/rms_norm\n",
    "    proc_lst.append(norm_data)"
   ]
  },
  {
   "cell_type": "markdown",
   "id": "56837847",
   "metadata": {},
   "source": [
    "### Get Data for Two Shots"
   ]
  },
  {
   "cell_type": "code",
   "execution_count": null,
   "id": "5d0ca966",
   "metadata": {},
   "outputs": [],
   "source": [
    "fid = 0\n",
    "file_proc = proc_lst[fid]\n",
    "print(file_proc.shape)\n",
    "\n",
    "fid2 = 201\n",
    "file_proc2 = proc_lst[fid2]\n",
    "print(file_proc2.shape)"
   ]
  },
  {
   "cell_type": "markdown",
   "id": "f04c4b86",
   "metadata": {},
   "source": [
    "### Get Source Coordinates for Each File (shot)"
   ]
  },
  {
   "cell_type": "code",
   "execution_count": null,
   "id": "054a668f",
   "metadata": {},
   "outputs": [],
   "source": [
    "src_df = hset_df[hset_df['FileIndex']==fid]\n",
    "src_df = src_df[['SourceLat','SourceLon']].drop_duplicates()\n",
    "src_df"
   ]
  },
  {
   "cell_type": "code",
   "execution_count": null,
   "id": "5ca4c999",
   "metadata": {},
   "outputs": [],
   "source": [
    "src2_df = hset_df[hset_df['FileIndex']==fid2]\n",
    "src2_df = src2_df[['SourceLat','SourceLon']].drop_duplicates()\n",
    "src2_df"
   ]
  },
  {
   "cell_type": "markdown",
   "id": "c216783f",
   "metadata": {},
   "source": [
    "### Get Metadata for Data Plotting"
   ]
  },
  {
   "cell_type": "code",
   "execution_count": 30,
   "id": "8a98262a",
   "metadata": {},
   "outputs": [],
   "source": [
    "nt = hset_df.attrs['SampleCount'][fid]\n",
    "dt = hset_df.attrs['TimeDelta'][fid]\n",
    "times = dt*np.arange(nt)"
   ]
  },
  {
   "cell_type": "markdown",
   "id": "c4a7c8a8",
   "metadata": {},
   "source": [
    "## Plot Shot for First File"
   ]
  },
  {
   "cell_type": "markdown",
   "id": "87dc77db",
   "metadata": {},
   "source": [
    "### Show Field Map"
   ]
  },
  {
   "cell_type": "code",
   "execution_count": 31,
   "id": "8c9293fa",
   "metadata": {},
   "outputs": [],
   "source": [
    "m_width = 1200\n",
    "m_height = (1/1.66666)*m_width\n",
    "\n",
    "glst = []\n",
    "bore_d = _make_marker_dict(bhdr_latlon_df,kw_lat='GroupLat',kw_lon='GroupLon',color='black',mname='BORE',symbol=\"▽\",sympt='12')\n",
    "bore_g = _make_folium_group_from_dict(bore_d,gname='DAS Boreholes')\n",
    "src_d = _make_marker_dict(src_df,kw_lat='SourceLat',kw_lon='SourceLon',color='red',mname='SRC',symbol='★')\n",
    "src_g = _make_folium_group_from_dict(src_d,gname='Source')\n",
    "rec_d = _make_marker_dict(rec_latlon_df,kw_lat='GroupLat',kw_lon='GroupLon',color='blue',mname='REC',symbol='▽',sympt='12')\n",
    "rec_g = _make_folium_group_from_dict(rec_d,gname='All Channels')\n",
    "\n",
    "glst.append(src_g)\n",
    "glst.append(bore_g)\n",
    "glst.append(rec_g)\n",
    "\n",
    "clat,clon = _get_latlot_means(rec_latlon_df,kw_lat='GroupLat',kw_lon='GroupLon')\n",
    "\n",
    "base_map = _make_folium_base_map(clat,clon,zoom_start=14)\n",
    "\n",
    "my_map = _add_folium_groups_to_map(glst,base_map)"
   ]
  },
  {
   "cell_type": "code",
   "execution_count": null,
   "id": "29558885",
   "metadata": {},
   "outputs": [],
   "source": [
    "m_html = get_html_folium_map(my_map,width=m_width,height=m_height)\n",
    "display(m_html)"
   ]
  },
  {
   "cell_type": "code",
   "execution_count": null,
   "id": "2d3665cb",
   "metadata": {},
   "outputs": [],
   "source": [
    "src_map_fname = data_path + '/src_map.html'\n",
    "print(src_map_fname)"
   ]
  },
  {
   "cell_type": "code",
   "execution_count": 34,
   "id": "526005b2",
   "metadata": {},
   "outputs": [],
   "source": [
    "# my_map.save(src_map_fname)"
   ]
  },
  {
   "cell_type": "markdown",
   "id": "a20017d8",
   "metadata": {},
   "source": [
    "### Plot All Channels"
   ]
  },
  {
   "cell_type": "code",
   "execution_count": 35,
   "id": "ea269ced",
   "metadata": {},
   "outputs": [],
   "source": [
    "#TAC: uncomment after all initial plots (Cloud Workstation Cluster Problem Sometimes)\n",
    "%matplotlib widget"
   ]
  },
  {
   "cell_type": "markdown",
   "id": "a7ed45f5",
   "metadata": {},
   "source": [
    "### Zoom Box"
   ]
  },
  {
   "cell_type": "code",
   "execution_count": 36,
   "id": "2be3b0f4",
   "metadata": {},
   "outputs": [],
   "source": [
    "z_anch = (540, 2.3)\n",
    "x_zlim = (540,740)\n",
    "y_zlim = (2.3,3.3)\n",
    "zoom_rect = patches.Rectangle(\n",
    "    z_anch,                          # anchor\n",
    "    x_zlim[1] - x_zlim[0],           # channels\n",
    "    y_zlim[1] - y_zlim[0],           # time range\n",
    "    linewidth=4,\n",
    "    edgecolor='red',\n",
    "    facecolor='none'\n",
    ")"
   ]
  },
  {
   "cell_type": "code",
   "execution_count": 37,
   "id": "d62fbed0",
   "metadata": {},
   "outputs": [],
   "source": [
    "AC, TA = np.meshgrid(np.arange(file_proc.shape[0]), times)"
   ]
  },
  {
   "cell_type": "code",
   "execution_count": null,
   "id": "2ee4c188",
   "metadata": {},
   "outputs": [],
   "source": [
    "pclip = 0.8\n",
    "vmax = (1.-pclip)*np.abs(file_proc).max()\n",
    "plt_data = file_proc.T\n",
    "\n",
    "fig, ax = plt.subplots(figsize=(15,9))\n",
    "im = ax.pcolormesh(AC, TA, plt_data, cmap='gray',vmin=-vmax,vmax=vmax)\n",
    "\n",
    "ax.add_patch(dcopy(zoom_rect))\n",
    "\n",
    "xlim = ax.get_xlim()\n",
    "tick_positions = np.linspace(xlim[0], xlim[1], 10)\n",
    "ax.set_xticks(tick_positions)\n",
    "ax.xaxis.set_major_formatter(FormatStrFormatter('%.2f'))\n",
    "\n",
    "ax.invert_yaxis()\n",
    "\n",
    "ax.set_title(f'Preprocessed File-{fid} (All Channels)')\n",
    "ax.set_ylabel('time (s)')\n",
    "ax.set_xlabel('channel')\n",
    "plt.setp(ax.get_xticklabels(), rotation=45)\n",
    "plt.tight_layout()\n",
    "plt.show()"
   ]
  },
  {
   "cell_type": "markdown",
   "id": "43b106ed",
   "metadata": {},
   "source": [
    "### Plot All Channels with Borehole Channel Markers Overlain (indicated in channel headers)"
   ]
  },
  {
   "cell_type": "code",
   "execution_count": null,
   "id": "32a894bb",
   "metadata": {},
   "outputs": [],
   "source": [
    "pclip = 0.8\n",
    "vmax = (1.-pclip)*np.abs(file_proc).max()\n",
    "plt_data = file_proc.T\n",
    "\n",
    "fig, ax = plt.subplots(figsize=(15,9))\n",
    "im = ax.pcolormesh(AC, TA, plt_data, cmap='gray',vmin=-vmax,vmax=vmax)\n",
    "\n",
    "ax.add_patch(dcopy(zoom_rect))\n",
    "\n",
    "for ic in ibore_mask:\n",
    "    ax.axvspan(ic-0.5, ic+0.5, color='yellow', alpha=0.3)\n",
    "\n",
    "xlim = ax.get_xlim()\n",
    "tick_positions = np.linspace(xlim[0], xlim[1], 10)\n",
    "ax.set_xticks(tick_positions)\n",
    "ax.xaxis.set_major_formatter(FormatStrFormatter('%.2f'))\n",
    "\n",
    "ax.invert_yaxis()\n",
    "\n",
    "ax.set_title(f'Preprocessed File-{fid} (Borehole Overlay)')\n",
    "ax.set_ylabel('time (s)')\n",
    "ax.set_xlabel('channel')\n",
    "plt.setp(ax.get_xticklabels(), rotation=45)\n",
    "plt.tight_layout()\n",
    "plt.show()"
   ]
  },
  {
   "cell_type": "markdown",
   "id": "8c325b3e",
   "metadata": {},
   "source": [
    "### Plot All Channels with Borehole Channel Markers Overlain (header locations plus nearest channel neighbors)"
   ]
  },
  {
   "cell_type": "code",
   "execution_count": null,
   "id": "113880c4",
   "metadata": {},
   "outputs": [],
   "source": [
    "pclip = 0.8\n",
    "vmax = (1.-pclip)*np.abs(file_proc).max()\n",
    "plt_data = file_proc.T\n",
    "\n",
    "fig, ax = plt.subplots(figsize=(15,9))\n",
    "im = ax.pcolormesh(AC, TA, plt_data, cmap='gray',vmin=-vmax,vmax=vmax)\n",
    "\n",
    "ax.add_patch(dcopy(zoom_rect))\n",
    "\n",
    "for ic in ibore_mask_p1:\n",
    "    ax.axvspan(ic-0.5, ic+0.5, color='yellow', alpha=0.3)\n",
    "\n",
    "xlim = ax.get_xlim()\n",
    "tick_positions = np.linspace(xlim[0], xlim[1], 10)\n",
    "ax.set_xticks(tick_positions)\n",
    "ax.xaxis.set_major_formatter(FormatStrFormatter('%.2f'))\n",
    "\n",
    "ax.invert_yaxis()\n",
    "\n",
    "ax.set_title(f'Preprocessed File-{fid} (Borehole +1 Overlay)')\n",
    "ax.set_ylabel('time (s)')\n",
    "ax.set_xlabel('channel')\n",
    "plt.setp(ax.get_xticklabels(), rotation=45)\n",
    "plt.tight_layout()\n",
    "plt.show()"
   ]
  },
  {
   "cell_type": "markdown",
   "id": "27070ab4",
   "metadata": {},
   "source": [
    "### Plot Borehole Channels Only (as indecated by channel headers)"
   ]
  },
  {
   "cell_type": "code",
   "execution_count": 41,
   "id": "b23fea8e",
   "metadata": {},
   "outputs": [],
   "source": [
    "BC1, TB1 = np.meshgrid(ibore_mask, times)"
   ]
  },
  {
   "cell_type": "code",
   "execution_count": null,
   "id": "e3a66b5e",
   "metadata": {},
   "outputs": [],
   "source": [
    "pclip = 0.8\n",
    "vmax = (1.-pclip)*np.abs(file_proc).max()\n",
    "plt_data = file_proc[ibore_mask,:].T\n",
    "\n",
    "fig, ax = plt.subplots(figsize=(15,9))\n",
    "im = ax.pcolormesh(BC1, TB1, plt_data, cmap='gray',vmin=-vmax,vmax=vmax)\n",
    "\n",
    "ax.add_patch(dcopy(zoom_rect))\n",
    "\n",
    "xlim = ax.get_xlim()\n",
    "tick_positions = np.linspace(xlim[0], xlim[1], 10)\n",
    "ax.set_xticks(tick_positions)\n",
    "\n",
    "ax.invert_yaxis()\n",
    "\n",
    "ax.set_title(f'Preprocessed File-{fid} (Boreholes Only)')\n",
    "ax.set_ylabel('time (s)')\n",
    "ax.set_xlabel('channel')\n",
    "plt.setp(ax.get_xticklabels(), rotation=45)\n",
    "plt.tight_layout()\n",
    "plt.show()"
   ]
  },
  {
   "cell_type": "markdown",
   "id": "cb4ba477",
   "metadata": {},
   "source": [
    "### Plot Borehole Channels Plus Nearest Neighbor Channels"
   ]
  },
  {
   "cell_type": "code",
   "execution_count": 43,
   "id": "c65e4bba",
   "metadata": {},
   "outputs": [],
   "source": [
    "BC2, TB2 = np.meshgrid(ibore_mask_p1, times)"
   ]
  },
  {
   "cell_type": "code",
   "execution_count": null,
   "id": "eeda2160",
   "metadata": {},
   "outputs": [],
   "source": [
    "pclip = 0.8\n",
    "vmax = (1.-pclip)*np.abs(file_proc).max()\n",
    "plt_data = file_proc[ibore_mask_p1,:].T\n",
    "\n",
    "fig, ax = plt.subplots(figsize=(15,9))\n",
    "im = ax.pcolormesh(BC2, TB2, plt_data, cmap='gray',vmin=-vmax,vmax=vmax)\n",
    "\n",
    "ax.add_patch(dcopy(zoom_rect))\n",
    "\n",
    "xlim = ax.get_xlim()\n",
    "tick_positions = np.linspace(xlim[0], xlim[1], 10)\n",
    "ax.set_xticks(tick_positions)\n",
    "\n",
    "ax.invert_yaxis()\n",
    "\n",
    "ax.set_title(f'Preprocessed File-{fid} (Boreholes +1 Only)')\n",
    "ax.set_ylabel('time (s)')\n",
    "ax.set_xlabel('channel')\n",
    "plt.setp(ax.get_xticklabels(), rotation=45)\n",
    "plt.tight_layout()\n",
    "plt.show()"
   ]
  },
  {
   "cell_type": "markdown",
   "id": "a9cf5506",
   "metadata": {},
   "source": [
    "### Zoom Plot All vs Borehole (vertical-loop) Channels"
   ]
  },
  {
   "cell_type": "code",
   "execution_count": 45,
   "id": "b093b972",
   "metadata": {},
   "outputs": [],
   "source": [
    "plt_data1 = file_proc.T\n",
    "plt_data2 = file_proc[ibore_mask,:].T\n",
    "plt_data3 = file_proc[ibore_mask_p1,:].T"
   ]
  },
  {
   "cell_type": "code",
   "execution_count": null,
   "id": "47d1e61e",
   "metadata": {},
   "outputs": [],
   "source": [
    "pclip = 0.8\n",
    "vmax = (1.-pclip)*np.abs(file_proc).max()\n",
    "xlim_zoom = x_zlim\n",
    "ylim_zoom = y_zlim\n",
    "tick_positions_x = np.linspace(*xlim_zoom, 10)\n",
    "tick_positions_y = np.linspace(*ylim_zoom, 10)[::-1]  # Reversed for inverted axis\n",
    "\n",
    "\n",
    "fig, axes = plt.subplots(nrows=3, figsize=(15, 15), sharex=True, sharey=True)\n",
    "\n",
    "axes[0].pcolormesh(AC, TA, plt_data1, cmap='gray',vmin=-vmax,vmax=vmax)\n",
    "axes[0].set_xlim(*x_zlim)\n",
    "axes[0].set_ylim(*y_zlim[::-1])  # y-axis inverted\n",
    "axes[0].set_xticks(tick_positions_x)\n",
    "axes[0].xaxis.set_major_formatter(FormatStrFormatter('%.2f'))\n",
    "axes[0].set_yticks(tick_positions_y)\n",
    "axes[0].yaxis.set_major_formatter(FormatStrFormatter('%.1f'))\n",
    "axes[0].set_title(f'a) Zoom: All Channels')\n",
    "axes[0].set_ylabel('time (s)')\n",
    "axes[0].set_xlabel('channel')\n",
    "\n",
    "axes[1].pcolormesh(BC1, TB1, plt_data2, cmap='gray',vmin=-vmax,vmax=vmax)\n",
    "axes[1].set_xlim(*x_zlim)\n",
    "axes[1].set_ylim(*y_zlim[::-1])  # y-axis inverted\n",
    "axes[1].set_xticks(tick_positions_x)\n",
    "axes[1].xaxis.set_major_formatter(FormatStrFormatter('%.2f'))\n",
    "axes[1].set_yticks(tick_positions_y)\n",
    "axes[1].yaxis.set_major_formatter(FormatStrFormatter('%.1f'))\n",
    "axes[1].set_title(f'b) Zoom: Boreholes Only')\n",
    "axes[1].set_ylabel('time (s)')\n",
    "axes[1].set_xlabel('channel')\n",
    "\n",
    "axes[2].pcolormesh(BC2, TB2, plt_data3, cmap='gray',vmin=-vmax,vmax=vmax)\n",
    "axes[2].set_xlim(*x_zlim)\n",
    "axes[2].set_ylim(*y_zlim[::-1])  # y-axis inverted\n",
    "axes[2].set_xticks(tick_positions_x)\n",
    "axes[2].xaxis.set_major_formatter(FormatStrFormatter('%.2f'))\n",
    "axes[2].set_yticks(tick_positions_y)\n",
    "axes[2].yaxis.set_major_formatter(FormatStrFormatter('%.1f'))\n",
    "axes[2].set_title(f'c) Zoom: Boreholes + 1 Only')\n",
    "axes[2].set_ylabel('time (s)')\n",
    "axes[2].set_xlabel('channel')\n",
    "\n",
    "fig.suptitle(\"Zoomed View: All Channels vs Borehole Channels\", fontsize=16, y=1.0)\n",
    "\n",
    "plt.tight_layout()\n",
    "plt.show()"
   ]
  },
  {
   "cell_type": "markdown",
   "id": "05dc19fe",
   "metadata": {},
   "source": [
    "### Plot Surface Channels Only (as indecated by channel headers)"
   ]
  },
  {
   "cell_type": "code",
   "execution_count": 47,
   "id": "62b98df5",
   "metadata": {},
   "outputs": [],
   "source": [
    "SC1, TS1 = np.meshgrid(isurf_mask, times)"
   ]
  },
  {
   "cell_type": "code",
   "execution_count": null,
   "id": "636e1abb",
   "metadata": {},
   "outputs": [],
   "source": [
    "pclip = 0.8\n",
    "vmax = (1.-pclip)*np.abs(file_proc).max()\n",
    "plt_data = file_proc[isurf_mask,:].T\n",
    "\n",
    "fig, ax = plt.subplots(figsize=(15,9))\n",
    "im = ax.pcolormesh(SC1, TS1, plt_data, cmap='gray',vmin=-vmax,vmax=vmax)\n",
    "\n",
    "ax.add_patch(dcopy(zoom_rect))\n",
    "\n",
    "xlim = ax.get_xlim()\n",
    "tick_positions = np.linspace(xlim[0], xlim[1], 10)\n",
    "ax.set_xticks(tick_positions)\n",
    "ax.xaxis.set_major_formatter(FormatStrFormatter('%.2f'))\n",
    "\n",
    "ax.invert_yaxis()\n",
    "\n",
    "ax.set_title(f'Preprocessed File-{fid} (Surface Only)')\n",
    "ax.set_ylabel('time (s)')\n",
    "ax.set_xlabel('channel')\n",
    "plt.setp(ax.get_xticklabels(), rotation=45)\n",
    "plt.tight_layout()\n",
    "plt.show()"
   ]
  },
  {
   "cell_type": "markdown",
   "id": "342ac885",
   "metadata": {},
   "source": [
    "### Plot Surface Channels without Borehole Channels and without Borehole Nearest Neighbors"
   ]
  },
  {
   "cell_type": "code",
   "execution_count": 49,
   "id": "f710d298",
   "metadata": {},
   "outputs": [],
   "source": [
    "SC2, TS2 = np.meshgrid(isurf_mask_p1, times)"
   ]
  },
  {
   "cell_type": "code",
   "execution_count": null,
   "id": "8d554bf6",
   "metadata": {},
   "outputs": [],
   "source": [
    "pclip = 0.8\n",
    "vmax = (1.-pclip)*np.abs(file_proc).max()\n",
    "plt_data = file_proc[isurf_mask_p1,:].T\n",
    "\n",
    "fig, ax = plt.subplots(figsize=(15,9))\n",
    "im = ax.pcolormesh(SC2, TS2, plt_data, cmap='gray',vmin=-vmax,vmax=vmax)\n",
    "\n",
    "ax.add_patch(dcopy(zoom_rect))\n",
    "\n",
    "xlim = ax.get_xlim()\n",
    "tick_positions = np.linspace(xlim[0], xlim[1], 10)\n",
    "ax.set_xticks(tick_positions)\n",
    "ax.xaxis.set_major_formatter(FormatStrFormatter('%.2f'))\n",
    "\n",
    "ax.invert_yaxis()\n",
    "\n",
    "ax.set_title(f'Preprocessed File-{fid} (Surface Only Minus BH Nearest Neighbors)')\n",
    "ax.set_ylabel('time (s)')\n",
    "ax.set_xlabel('channel')\n",
    "plt.setp(ax.get_xticklabels(), rotation=45)\n",
    "plt.tight_layout()\n",
    "plt.show()"
   ]
  },
  {
   "cell_type": "markdown",
   "id": "30ad23e7",
   "metadata": {},
   "source": [
    "### Zoom Plot All vs Surface Channels"
   ]
  },
  {
   "cell_type": "code",
   "execution_count": 51,
   "id": "a489c3db",
   "metadata": {},
   "outputs": [],
   "source": [
    "plt_data1 = file_proc.T\n",
    "plt_data2 = file_proc[isurf_mask,:].T\n",
    "plt_data3 = file_proc[isurf_mask_p1,:].T"
   ]
  },
  {
   "cell_type": "code",
   "execution_count": null,
   "id": "6545025a",
   "metadata": {},
   "outputs": [],
   "source": [
    "pclip = 0.8\n",
    "vmax = (1.-pclip)*np.abs(file_proc).max()\n",
    "xlim_zoom = x_zlim\n",
    "ylim_zoom = y_zlim\n",
    "tick_positions_x = np.linspace(*xlim_zoom, 10)\n",
    "tick_positions_y = np.linspace(*ylim_zoom, 10)[::-1]  # Reversed for inverted axis\n",
    "\n",
    "\n",
    "fig, axes = plt.subplots(nrows=3, figsize=(15, 15), sharex=True, sharey=True)\n",
    "\n",
    "axes[0].pcolormesh(AC, TA, plt_data1, cmap='gray',vmin=-vmax,vmax=vmax)\n",
    "axes[0].set_xlim(*x_zlim)\n",
    "axes[0].set_ylim(*y_zlim[::-1])  # y-axis inverted\n",
    "axes[0].set_xticks(tick_positions_x)\n",
    "axes[0].xaxis.set_major_formatter(FormatStrFormatter('%.2f'))\n",
    "axes[0].set_yticks(tick_positions_y)\n",
    "axes[0].yaxis.set_major_formatter(FormatStrFormatter('%.1f'))\n",
    "axes[0].set_title(f'a) Zoom: All Channels')\n",
    "axes[0].set_ylabel('time (s)')\n",
    "axes[0].set_xlabel('channel')\n",
    "\n",
    "axes[1].pcolormesh(SC1, TS1, plt_data2, cmap='gray',vmin=-vmax,vmax=vmax)\n",
    "axes[1].set_xlim(*x_zlim)\n",
    "axes[1].set_ylim(*y_zlim[::-1])  # y-axis inverted\n",
    "axes[1].set_xticks(tick_positions_x)\n",
    "axes[1].xaxis.set_major_formatter(FormatStrFormatter('%.2f'))\n",
    "axes[1].set_yticks(tick_positions_y)\n",
    "axes[1].yaxis.set_major_formatter(FormatStrFormatter('%.1f'))\n",
    "axes[1].set_title(f'b) Zoom: Surface Only')\n",
    "axes[1].set_ylabel('time (s)')\n",
    "axes[1].set_xlabel('channel')\n",
    "\n",
    "axes[2].pcolormesh(SC2, TS2, plt_data3, cmap='gray',vmin=-vmax,vmax=vmax)\n",
    "axes[2].set_xlim(*x_zlim)\n",
    "axes[2].set_ylim(*y_zlim[::-1])  # y-axis inverted\n",
    "axes[2].set_xticks(tick_positions_x)\n",
    "axes[2].xaxis.set_major_formatter(FormatStrFormatter('%.2f'))\n",
    "axes[2].set_yticks(tick_positions_y)\n",
    "axes[2].yaxis.set_major_formatter(FormatStrFormatter('%.1f'))\n",
    "axes[2].set_title(f'c) Zoom: Surface Only Minus BH + 1')\n",
    "axes[2].set_ylabel('time (s)')\n",
    "axes[2].set_xlabel('channel')\n",
    "\n",
    "fig.suptitle(\"Zoomed View: All Channels vs Surface-Only Channels\", fontsize=16, y=1.0)\n",
    "\n",
    "plt.tight_layout()\n",
    "plt.show()\n"
   ]
  },
  {
   "cell_type": "markdown",
   "id": "7dad68f5",
   "metadata": {},
   "source": [
    "## Plot Shot for Second File"
   ]
  },
  {
   "cell_type": "markdown",
   "id": "5be12e49",
   "metadata": {},
   "source": [
    "### Show Field Map"
   ]
  },
  {
   "cell_type": "code",
   "execution_count": 53,
   "id": "5a7ac582",
   "metadata": {},
   "outputs": [],
   "source": [
    "m_width = 1200\n",
    "m_height = (1/1.66666)*m_width\n",
    "\n",
    "glst = []\n",
    "bore_d = _make_marker_dict(bhdr_latlon_df,kw_lat='GroupLat',kw_lon='GroupLon',color='black',mname='BORE',symbol=\"▽\",sympt='12')\n",
    "bore_g = _make_folium_group_from_dict(bore_d,gname='DAS Boreholes')\n",
    "src_d = _make_marker_dict(src2_df,kw_lat='SourceLat',kw_lon='SourceLon',color='red',mname='SRC',symbol='★')\n",
    "src_g = _make_folium_group_from_dict(src_d,gname='Source')\n",
    "rec_d = _make_marker_dict(rec_latlon_df,kw_lat='GroupLat',kw_lon='GroupLon',color='blue',mname='REC',symbol='▽',sympt='12')\n",
    "rec_g = _make_folium_group_from_dict(rec_d,gname='All Channels')\n",
    "\n",
    "glst.append(src_g)\n",
    "glst.append(bore_g)\n",
    "glst.append(rec_g)\n",
    "\n",
    "clat,clon = _get_latlot_means(rec_latlon_df,kw_lat='GroupLat',kw_lon='GroupLon')\n",
    "\n",
    "base_map = _make_folium_base_map(clat,clon,zoom_start=14)\n",
    "\n",
    "my_map = _add_folium_groups_to_map(glst,base_map)"
   ]
  },
  {
   "cell_type": "code",
   "execution_count": null,
   "id": "31e8e431",
   "metadata": {},
   "outputs": [],
   "source": [
    "m_html = get_html_folium_map(my_map,width=m_width,height=m_height)\n",
    "display(m_html)"
   ]
  },
  {
   "cell_type": "code",
   "execution_count": null,
   "id": "1adb279d",
   "metadata": {},
   "outputs": [],
   "source": [
    "src_map_fname = data_path + '/src2_map.html'\n",
    "print(src_map_fname)"
   ]
  },
  {
   "cell_type": "code",
   "execution_count": 56,
   "id": "5a8abec2",
   "metadata": {},
   "outputs": [],
   "source": [
    "# my_map.save(src_map_fname)"
   ]
  },
  {
   "cell_type": "markdown",
   "id": "f478ea7a",
   "metadata": {},
   "source": [
    "### Plot All Channels"
   ]
  },
  {
   "cell_type": "code",
   "execution_count": 57,
   "id": "23152b94",
   "metadata": {},
   "outputs": [],
   "source": [
    "AC, TT = np.meshgrid(np.arange(file_proc2.shape[0]), times)"
   ]
  },
  {
   "cell_type": "code",
   "execution_count": null,
   "id": "0ba830bc",
   "metadata": {},
   "outputs": [],
   "source": [
    "pclip = 0.8\n",
    "vmax = (1.-pclip)*np.abs(file_proc2).max()\n",
    "plt_data = file_proc2.T\n",
    "\n",
    "fig, ax = plt.subplots(figsize=(15,9))\n",
    "im = ax.pcolormesh(AC, TT, plt_data, cmap='gray',vmin=-vmax,vmax=vmax)\n",
    "\n",
    "xlim = ax.get_xlim()\n",
    "tick_positions = np.linspace(xlim[0], xlim[1], 10)\n",
    "ax.set_xticks(tick_positions)\n",
    "ax.xaxis.set_major_formatter(FormatStrFormatter('%.2f'))\n",
    "\n",
    "ax.invert_yaxis()\n",
    "\n",
    "ax.set_title(f'Preprocessed File-{fid2} (All Channels)')\n",
    "ax.set_ylabel('time (s)')\n",
    "ax.set_xlabel('channel')\n",
    "plt.setp(ax.get_xticklabels(), rotation=45)\n",
    "plt.tight_layout()\n",
    "plt.show()"
   ]
  },
  {
   "cell_type": "markdown",
   "id": "530bfe1b",
   "metadata": {},
   "source": [
    "### Plot All Channels with Borehole Channel Markers Overlain (indicated in channel headers)"
   ]
  },
  {
   "cell_type": "code",
   "execution_count": null,
   "id": "61fc48d8",
   "metadata": {},
   "outputs": [],
   "source": [
    "pclip = 0.8\n",
    "vmax = (1.-pclip)*np.abs(file_proc2).max()\n",
    "plt_data = file_proc2.T\n",
    "\n",
    "fig, ax = plt.subplots(figsize=(15,9))\n",
    "im = ax.pcolormesh(AC, TT, plt_data, cmap='gray',vmin=-vmax,vmax=vmax)\n",
    "\n",
    "for ic in ibore_mask:\n",
    "    ax.axvspan(ic-0.5, ic+0.5, color='yellow', alpha=0.3)\n",
    "\n",
    "xlim = ax.get_xlim()\n",
    "tick_positions = np.linspace(xlim[0], xlim[1], 10)\n",
    "ax.set_xticks(tick_positions)\n",
    "ax.xaxis.set_major_formatter(FormatStrFormatter('%.2f'))\n",
    "\n",
    "ax.invert_yaxis()\n",
    "\n",
    "ax.set_title(f'Preprocessed File-{fid2} (Borehole Overlay)')\n",
    "ax.set_ylabel('time (s)')\n",
    "ax.set_xlabel('channel')\n",
    "plt.setp(ax.get_xticklabels(), rotation=45)\n",
    "plt.tight_layout()\n",
    "plt.show()"
   ]
  },
  {
   "cell_type": "markdown",
   "id": "8635cfa4",
   "metadata": {},
   "source": [
    "### Plot All Channels with Borehole Channel Markers Overlain (header locations plus nearest channel neighbors)"
   ]
  },
  {
   "cell_type": "code",
   "execution_count": null,
   "id": "dfd6414a",
   "metadata": {},
   "outputs": [],
   "source": [
    "pclip = 0.8\n",
    "vmax = (1.-pclip)*np.abs(file_proc2).max()\n",
    "plt_data = file_proc2.T\n",
    "\n",
    "fig, ax = plt.subplots(figsize=(15,9))\n",
    "im = ax.pcolormesh(AC, TT, plt_data, cmap='gray',vmin=-vmax,vmax=vmax)\n",
    "\n",
    "for ic in ibore_mask_p1:\n",
    "    ax.axvspan(ic-0.5, ic+0.5, color='yellow', alpha=0.3)\n",
    "\n",
    "xlim = ax.get_xlim()\n",
    "tick_positions = np.linspace(xlim[0], xlim[1], 10)\n",
    "ax.set_xticks(tick_positions)\n",
    "ax.xaxis.set_major_formatter(FormatStrFormatter('%.2f'))\n",
    "\n",
    "ax.invert_yaxis()\n",
    "\n",
    "ax.set_title(f'Preprocessed File-{fid2} (Borehole +1 Overlay)')\n",
    "ax.set_ylabel('time (s)')\n",
    "ax.set_xlabel('channel')\n",
    "plt.setp(ax.get_xticklabels(), rotation=45)\n",
    "plt.tight_layout()\n",
    "plt.show()"
   ]
  },
  {
   "cell_type": "markdown",
   "id": "1a4d6ae2",
   "metadata": {},
   "source": [
    "### Plot Borehole Channels Only (as indecated by channel headers)"
   ]
  },
  {
   "cell_type": "code",
   "execution_count": 61,
   "id": "901f70e7",
   "metadata": {},
   "outputs": [],
   "source": [
    "BC, TT = np.meshgrid(ibore_mask, times)"
   ]
  },
  {
   "cell_type": "code",
   "execution_count": null,
   "id": "55a4fe4f",
   "metadata": {},
   "outputs": [],
   "source": [
    "pclip = 0.8\n",
    "vmax = (1.-pclip)*np.abs(file_proc2).max()\n",
    "plt_data = file_proc2[ibore_mask,:].T\n",
    "\n",
    "fig, ax = plt.subplots(figsize=(15,9))\n",
    "im = ax.pcolormesh(BC, TT, plt_data, cmap='gray',vmin=-vmax,vmax=vmax)\n",
    "\n",
    "xlim = ax.get_xlim()\n",
    "tick_positions = np.linspace(xlim[0], xlim[1], 10)\n",
    "ax.set_xticks(tick_positions)\n",
    "\n",
    "ax.invert_yaxis()\n",
    "\n",
    "ax.set_title(f'Preprocessed File-{fid2} (Boreholes Only)')\n",
    "ax.set_ylabel('time (s)')\n",
    "ax.set_xlabel('channel')\n",
    "plt.setp(ax.get_xticklabels(), rotation=45)\n",
    "plt.tight_layout()\n",
    "plt.show()"
   ]
  },
  {
   "cell_type": "markdown",
   "id": "728389db",
   "metadata": {},
   "source": [
    "### Plot Borehole Channels Plus Nearest Neighbor Channels"
   ]
  },
  {
   "cell_type": "code",
   "execution_count": 63,
   "id": "294d5a80",
   "metadata": {},
   "outputs": [],
   "source": [
    "BC, TT = np.meshgrid(ibore_mask_p1, times)"
   ]
  },
  {
   "cell_type": "code",
   "execution_count": null,
   "id": "5d524453",
   "metadata": {},
   "outputs": [],
   "source": [
    "pclip = 0.8\n",
    "vmax = (1.-pclip)*np.abs(file_proc2).max()\n",
    "plt_data = file_proc2[ibore_mask_p1,:].T\n",
    "\n",
    "fig, ax = plt.subplots(figsize=(15,9))\n",
    "im = ax.pcolormesh(BC, TT, plt_data, cmap='gray',vmin=-vmax,vmax=vmax)\n",
    "\n",
    "xlim = ax.get_xlim()\n",
    "tick_positions = np.linspace(xlim[0], xlim[1], 10)\n",
    "ax.set_xticks(tick_positions)\n",
    "\n",
    "ax.invert_yaxis()\n",
    "\n",
    "ax.set_title(f'Preprocessed File-{fid2} (Boreholes +1 Only)')\n",
    "ax.set_ylabel('time (s)')\n",
    "ax.set_xlabel('channel')\n",
    "plt.setp(ax.get_xticklabels(), rotation=45)\n",
    "plt.tight_layout()\n",
    "plt.show()"
   ]
  },
  {
   "cell_type": "markdown",
   "id": "ee01f4cc",
   "metadata": {},
   "source": [
    "### Plot Surface Channels Only (as indecated by channel headers)"
   ]
  },
  {
   "cell_type": "code",
   "execution_count": 65,
   "id": "7c7c2960",
   "metadata": {},
   "outputs": [],
   "source": [
    "SC, TT = np.meshgrid(isurf_mask, times)"
   ]
  },
  {
   "cell_type": "code",
   "execution_count": null,
   "id": "37d66b6d",
   "metadata": {},
   "outputs": [],
   "source": [
    "pclip = 0.8\n",
    "vmax = (1.-pclip)*np.abs(file_proc2).max()\n",
    "plt_data = file_proc2[isurf_mask,:].T\n",
    "\n",
    "fig, ax = plt.subplots(figsize=(15,9))\n",
    "im = ax.pcolormesh(SC, TT, plt_data, cmap='gray',vmin=-vmax,vmax=vmax)\n",
    "\n",
    "xlim = ax.get_xlim()\n",
    "tick_positions = np.linspace(xlim[0], xlim[1], 10)\n",
    "ax.set_xticks(tick_positions)\n",
    "ax.xaxis.set_major_formatter(FormatStrFormatter('%.2f'))\n",
    "\n",
    "ax.invert_yaxis()\n",
    "\n",
    "ax.set_title(f'Preprocessed File-{fid2} (Surface Only)')\n",
    "ax.set_ylabel('time (s)')\n",
    "ax.set_xlabel('channel')\n",
    "plt.setp(ax.get_xticklabels(), rotation=45)\n",
    "plt.tight_layout()\n",
    "plt.show()"
   ]
  },
  {
   "cell_type": "markdown",
   "id": "6d9cecf3",
   "metadata": {},
   "source": [
    "### Plot Surface Channels without Borehole Channels and without Borehole Nearest Neighbors"
   ]
  },
  {
   "cell_type": "code",
   "execution_count": 67,
   "id": "d9123ebe",
   "metadata": {},
   "outputs": [],
   "source": [
    "SC, TT = np.meshgrid(isurf_mask_p1, times)"
   ]
  },
  {
   "cell_type": "code",
   "execution_count": null,
   "id": "ee2bc91b",
   "metadata": {},
   "outputs": [],
   "source": [
    "pclip = 0.8\n",
    "vmax = (1.-pclip)*np.abs(file_proc2).max()\n",
    "plt_data = file_proc2[isurf_mask_p1,:].T\n",
    "\n",
    "fig, ax = plt.subplots(figsize=(15,9))\n",
    "im = ax.pcolormesh(SC, TT, plt_data, cmap='gray',vmin=-vmax,vmax=vmax)\n",
    "\n",
    "xlim = ax.get_xlim()\n",
    "tick_positions = np.linspace(xlim[0], xlim[1], 10)\n",
    "ax.set_xticks(tick_positions)\n",
    "ax.xaxis.set_major_formatter(FormatStrFormatter('%.2f'))\n",
    "\n",
    "ax.invert_yaxis()\n",
    "\n",
    "ax.set_title(f'Preprocessed File-{fid2} (Surface Only Minus BH Nearest Neighbors)')\n",
    "ax.set_ylabel('time (s)')\n",
    "ax.set_xlabel('channel')\n",
    "plt.setp(ax.get_xticklabels(), rotation=45)\n",
    "plt.tight_layout()\n",
    "plt.show()"
   ]
  },
  {
   "cell_type": "markdown",
   "id": "741359ad",
   "metadata": {},
   "source": [
    "## Remove Surface Slack Channels"
   ]
  },
  {
   "cell_type": "markdown",
   "id": "45b3dac2",
   "metadata": {},
   "source": [
    "#### Emerically Searched for Channels"
   ]
  },
  {
   "cell_type": "code",
   "execution_count": null,
   "id": "630edbab",
   "metadata": {},
   "outputs": [],
   "source": [
    "#TAC: emerically found\n",
    "ifrom = 46\n",
    "ito = 47\n",
    "\n",
    "slack_df = bhdr_latlon_df[(ifrom <= bhdr_latlon_df['BoreIndex']) &  (bhdr_latlon_df['BoreIndex'] <= ito)]\n",
    "display(slack_df.iloc[:4])"
   ]
  },
  {
   "cell_type": "code",
   "execution_count": 70,
   "id": "48fd8778",
   "metadata": {},
   "outputs": [],
   "source": [
    "sortx = np.sort(slack_df['GroupX'].to_numpy())\n",
    "sorty = np.sort(slack_df['GroupY'].to_numpy())\n",
    "gdx = 0.5*abs(sortx[1] - sortx[0])\n",
    "gdy = 1\n",
    "min_gx = sortx[0] - gdx\n",
    "max_gx = sortx[1] + gdx\n",
    "min_gy = sorty[0] + gdy\n",
    "max_gy = sorty[1] - gdy"
   ]
  },
  {
   "cell_type": "markdown",
   "id": "6c24bd20",
   "metadata": {},
   "source": [
    "#### Add Column to Channel (receiver) DataFrame for \"Is_Slack\" Mask"
   ]
  },
  {
   "cell_type": "code",
   "execution_count": null,
   "id": "46357a62",
   "metadata": {},
   "outputs": [],
   "source": [
    "slack_mask = (\n",
    "    (hset_df['GroupX'] >= min_gx) & (hset_df['GroupX'] <= max_gx) &\n",
    "    (hset_df['GroupY'] >= min_gy) & (hset_df['GroupY'] <= max_gy)\n",
    ")\n",
    "tagslack_df = hset_df.copy()\n",
    "tagslack_df.loc[:,'Is_Slack'] = slack_mask\n",
    "tagslack_df"
   ]
  },
  {
   "cell_type": "code",
   "execution_count": 72,
   "id": "63810c4e",
   "metadata": {},
   "outputs": [],
   "source": [
    "noslack_df = tagslack_df[tagslack_df['FileIndex'] == 0] #TAC: We just need one file"
   ]
  },
  {
   "cell_type": "markdown",
   "id": "013ee437",
   "metadata": {},
   "source": [
    "#### Slice/Remove Channels Part of the Surface Slack (non-entrenched) Cable Portion"
   ]
  },
  {
   "cell_type": "code",
   "execution_count": null,
   "id": "98f777c7",
   "metadata": {},
   "outputs": [],
   "source": [
    "rec_noslack_df = noslack_df.drop_duplicates(subset=['GroupLat', 'GroupLon'])[['SourceX','SourceY','OffsetX','OffsetY','GroupLat', 'GroupLon', 'GroupX', 'GroupY','Is_Slack']]\n",
    "rec_noslack_df = rec_noslack_df[~rec_noslack_df['Is_Slack']]\n",
    "rec_noslack_df"
   ]
  },
  {
   "cell_type": "markdown",
   "id": "2acc822b",
   "metadata": {},
   "source": [
    "### Show Field Overview Map Without the Slack Channels"
   ]
  },
  {
   "cell_type": "code",
   "execution_count": 74,
   "id": "aa73efa3",
   "metadata": {},
   "outputs": [],
   "source": [
    "m_width = 1200\n",
    "m_height = (1/1.66666)*m_width\n",
    "\n",
    "glst = []\n",
    "bore_d = _make_marker_dict(bhdr_latlon_df,kw_lat='GroupLat',kw_lon='GroupLon',color='black',mname='BORE',symbol=\"▽\",sympt='12')\n",
    "bore_g = _make_folium_group_from_dict(bore_d,gname='DAS Boreholes')\n",
    "abore_d = _make_marker_dict(sp1_df,kw_lat='Latitude',kw_lon='Longitude',color='black',mname='BORE',symbol=\"▼\",sympt='12')\n",
    "abore_g = _make_folium_group_from_dict(abore_d,gname='All Boreholes')\n",
    "src_d = _make_marker_dict(src_latlon_df,kw_lat='SourceLat',kw_lon='SourceLon',color='red',mname='SRC',symbol='★')\n",
    "src_g = _make_folium_group_from_dict(src_d,gname='All Sources')\n",
    "rec_d = _make_marker_dict(rec_noslack_df,kw_lat='GroupLat',kw_lon='GroupLon',color='blue',mname='REC',symbol='▽',sympt='12')\n",
    "rec_g = _make_folium_group_from_dict(rec_d,gname='Channels')\n",
    "\n",
    "glst.append(src_g)\n",
    "glst.append(bore_g)\n",
    "glst.append(abore_g)\n",
    "glst.append(rec_g)\n",
    "\n",
    "clat,clon = _get_latlot_means(rec_latlon_df,kw_lat='GroupLat',kw_lon='GroupLon')\n",
    "\n",
    "base_map = _make_folium_base_map(clat,clon,zoom_start=14)\n",
    "\n",
    "my_map = _add_folium_groups_to_map(glst,base_map)"
   ]
  },
  {
   "cell_type": "code",
   "execution_count": null,
   "id": "62df3738",
   "metadata": {},
   "outputs": [],
   "source": [
    "m_html = get_html_folium_map(my_map,width=m_width,height=m_height)\n",
    "display(m_html)"
   ]
  },
  {
   "cell_type": "code",
   "execution_count": null,
   "id": "730cf551",
   "metadata": {},
   "outputs": [],
   "source": [
    "noslack_map_fname = data_path + '/noslack_overview_field_map.html'\n",
    "print(noslack_map_fname)"
   ]
  },
  {
   "cell_type": "code",
   "execution_count": 77,
   "id": "f475b173",
   "metadata": {},
   "outputs": [],
   "source": [
    "# my_map.save(noslack_map_fname)"
   ]
  },
  {
   "cell_type": "markdown",
   "id": "3a93052a",
   "metadata": {},
   "source": [
    "## Plot Surface Channels With Slack Channels Set to Zero and Dropped"
   ]
  },
  {
   "cell_type": "code",
   "execution_count": null,
   "id": "ed5b3ed2",
   "metadata": {},
   "outputs": [],
   "source": [
    "is_slack = noslack_df['Is_Slack'].to_numpy()\n",
    "is_not_slack = ~is_slack\n",
    "is_not_slack"
   ]
  },
  {
   "cell_type": "markdown",
   "id": "b927c095",
   "metadata": {},
   "source": [
    "#### Zero-out Slack Channels"
   ]
  },
  {
   "cell_type": "code",
   "execution_count": 79,
   "id": "dd420f8f",
   "metadata": {},
   "outputs": [],
   "source": [
    "nos_file_proc = file_proc.copy()\n",
    "nos_file_proc[is_slack,:] = 0."
   ]
  },
  {
   "cell_type": "markdown",
   "id": "a3413ec3",
   "metadata": {},
   "source": [
    "#### To \"Drop\" Slack Channels"
   ]
  },
  {
   "cell_type": "code",
   "execution_count": null,
   "id": "7f6f8121",
   "metadata": {},
   "outputs": [],
   "source": [
    "isurf_nos_mask = file_df.index.to_numpy()[is_surf & is_not_slack]\n",
    "isurf_nos_mask"
   ]
  },
  {
   "cell_type": "markdown",
   "id": "0df20fc2",
   "metadata": {},
   "source": [
    "### Plot Zero-out Slack Surface Channels"
   ]
  },
  {
   "cell_type": "code",
   "execution_count": 81,
   "id": "59761dbd",
   "metadata": {},
   "outputs": [],
   "source": [
    "SC, TT = np.meshgrid(isurf_mask, times)"
   ]
  },
  {
   "cell_type": "code",
   "execution_count": null,
   "id": "cebd8c2c",
   "metadata": {},
   "outputs": [],
   "source": [
    "pclip = 0.8\n",
    "vmax = (1.-pclip)*np.abs(file_proc).max()\n",
    "plt_data = nos_file_proc[isurf_mask,:].T\n",
    "\n",
    "fig, ax = plt.subplots(figsize=(15,9))\n",
    "im = ax.pcolormesh(SC, TT, plt_data, cmap='gray',vmin=-vmax,vmax=vmax)\n",
    "\n",
    "xlim = ax.get_xlim()\n",
    "tick_positions = np.linspace(xlim[0], xlim[1], 10)\n",
    "ax.set_xticks(tick_positions)\n",
    "ax.xaxis.set_major_formatter(FormatStrFormatter('%.2f'))\n",
    "\n",
    "ax.invert_yaxis()\n",
    "\n",
    "ax.set_title(f'Preprocessed File-{fid} (Surface Only - Zero-Out Slack)')\n",
    "ax.set_ylabel('time (s)')\n",
    "ax.set_xlabel('channel')\n",
    "plt.setp(ax.get_xticklabels(), rotation=45)\n",
    "plt.tight_layout()\n",
    "plt.show()"
   ]
  },
  {
   "cell_type": "markdown",
   "id": "c68ad3e5",
   "metadata": {},
   "source": [
    "### Plot Dropped Slack Surface Channels"
   ]
  },
  {
   "cell_type": "code",
   "execution_count": 83,
   "id": "132e525f",
   "metadata": {},
   "outputs": [],
   "source": [
    "SC, TT = np.meshgrid(isurf_nos_mask, times) #TAC: Drop slack instead"
   ]
  },
  {
   "cell_type": "code",
   "execution_count": null,
   "id": "ab2605af",
   "metadata": {},
   "outputs": [],
   "source": [
    "pclip = 0.8\n",
    "vmax = (1.-pclip)*np.abs(file_proc).max()\n",
    "plt_data = file_proc[isurf_nos_mask,:].T #TAC: Drop slack instead\n",
    "\n",
    "fig, ax = plt.subplots(figsize=(15,9))\n",
    "im = ax.pcolormesh(SC, TT, plt_data, cmap='gray',vmin=-vmax,vmax=vmax)\n",
    "\n",
    "xlim = ax.get_xlim()\n",
    "tick_positions = np.linspace(xlim[0], xlim[1], 10)\n",
    "ax.set_xticks(tick_positions)\n",
    "ax.xaxis.set_major_formatter(FormatStrFormatter('%.2f'))\n",
    "\n",
    "ax.invert_yaxis()\n",
    "\n",
    "ax.set_title(f'Preprocessed File-{fid} (Surface Only - Dropped Slack)')\n",
    "ax.set_ylabel('time (s)')\n",
    "ax.set_xlabel('channel')\n",
    "plt.setp(ax.get_xticklabels(), rotation=45)\n",
    "plt.tight_layout()\n",
    "plt.show()"
   ]
  },
  {
   "cell_type": "markdown",
   "id": "fcdd7692",
   "metadata": {},
   "source": [
    "## Plot Channel (Receiver) Gathers: Surface Only (no slack), and Boreholes Only"
   ]
  },
  {
   "cell_type": "markdown",
   "id": "3dd27e47",
   "metadata": {},
   "source": [
    "#### Sort By Offset"
   ]
  },
  {
   "cell_type": "code",
   "execution_count": null,
   "id": "d6ee0465",
   "metadata": {},
   "outputs": [],
   "source": [
    "hset_df['SignSortX'] = np.sign(hset_df['OffsetX']) * hset_df['OffsetMag']\n",
    "hset_df['SignSortY'] = np.sign(hset_df['OffsetY']) * hset_df['OffsetMag']\n",
    "hset_df['SignSort'] = np.sign(hset_df['OffsetX']) * np.sign(hset_df['OffsetY']) * hset_df['OffsetMag']\n",
    "sorted_df = hset_df.sort_values(by=['RecGatherID', 'SignSort'], ascending=[True, False])\n",
    "\n",
    "sorted_df[['FileIndex','DataIndex','GroupX','GroupY','OffsetX','OffsetY','OffsetMag','RecGatherID','SignSort']]"
   ]
  },
  {
   "cell_type": "markdown",
   "id": "ea50d505",
   "metadata": {},
   "source": [
    "#### Construct Rec Gather Header"
   ]
  },
  {
   "cell_type": "code",
   "execution_count": null,
   "id": "aab56521",
   "metadata": {},
   "outputs": [],
   "source": [
    "rec_id = 0\n",
    "rec_df = sorted_df[sorted_df['RecGatherID'] == rec_id]\n",
    "print(len(rec_df))\n",
    "rec_df[['FileIndex','DataIndex','GroupX','GroupY','OffsetX','OffsetY','OffsetMag','RecGatherID','SrcGatherID']]"
   ]
  },
  {
   "cell_type": "code",
   "execution_count": null,
   "id": "1450b9b5",
   "metadata": {},
   "outputs": [],
   "source": [
    "# rec_df[['GroupX','GroupY']].drop_duplicates()\n",
    "rec_df.drop_duplicates(subset=['GroupLat', 'GroupLon'])[['GroupLat', 'GroupLon', 'GroupX', 'GroupY']]"
   ]
  },
  {
   "cell_type": "markdown",
   "id": "e5fd00d2",
   "metadata": {},
   "source": [
    "### Show Field Map For Receiver (channel)"
   ]
  },
  {
   "cell_type": "code",
   "execution_count": 88,
   "id": "3cd25a13",
   "metadata": {},
   "outputs": [],
   "source": [
    "m_width = 1200\n",
    "m_height = (1/1.66666)*m_width\n",
    "\n",
    "glst = []\n",
    "bore_d = _make_marker_dict(bhdr_latlon_df,kw_lat='GroupLat',kw_lon='GroupLon',color='black',mname='BORE',symbol=\"▽\",sympt='12')\n",
    "bore_g = _make_folium_group_from_dict(bore_d,gname='DAS Boreholes')\n",
    "src_d = _make_marker_dict(src_latlon_df,kw_lat='SourceLat',kw_lon='SourceLon',color='red',mname='SRC',symbol='★')\n",
    "src_g = _make_folium_group_from_dict(src_d,gname='All Sources')\n",
    "rec_d = _make_marker_dict(rec_df,kw_lat='GroupLat',kw_lon='GroupLon',color='blue',mname='REC',symbol=\"▼\",sympt='12')\n",
    "rec_g = _make_folium_group_from_dict(rec_d,gname='Channel')\n",
    "\n",
    "glst.append(rec_g)\n",
    "glst.append(src_g)\n",
    "glst.append(bore_g)\n",
    "\n",
    "clat,clon = _get_latlot_means(rec_latlon_df,kw_lat='GroupLat',kw_lon='GroupLon')\n",
    "\n",
    "base_map = _make_folium_base_map(clat,clon,zoom_start=14)\n",
    "\n",
    "my_map = _add_folium_groups_to_map(glst,base_map)"
   ]
  },
  {
   "cell_type": "code",
   "execution_count": null,
   "id": "fe694230",
   "metadata": {},
   "outputs": [],
   "source": [
    "m_html = get_html_folium_map(my_map,width=m_width,height=m_height)\n",
    "display(m_html)"
   ]
  },
  {
   "cell_type": "code",
   "execution_count": null,
   "id": "0b5e62c1",
   "metadata": {},
   "outputs": [],
   "source": [
    "rgath_map_fname = data_path + '/rec-gather_field_map.html'\n",
    "print(rgath_map_fname)"
   ]
  },
  {
   "cell_type": "code",
   "execution_count": 91,
   "id": "b2ffe3d9",
   "metadata": {},
   "outputs": [],
   "source": [
    "# my_map.save(rgath_map_fname)"
   ]
  },
  {
   "cell_type": "markdown",
   "id": "7004af6d",
   "metadata": {},
   "source": [
    "#### Get Offsets for Plotting"
   ]
  },
  {
   "cell_type": "code",
   "execution_count": null,
   "id": "4a8c7716",
   "metadata": {},
   "outputs": [],
   "source": [
    "index_pairs = list(zip(rec_df['FileIndex'], rec_df['DataIndex']))\n",
    "rec_data = np.array([proc_lst[fid][tid] for fid, tid in index_pairs])\n",
    "offsets = rec_df['SignSort'].to_numpy()\n",
    "offsets"
   ]
  },
  {
   "cell_type": "markdown",
   "id": "d1922106",
   "metadata": {},
   "source": [
    "### Plot Receiver (channel) Gather"
   ]
  },
  {
   "cell_type": "code",
   "execution_count": 93,
   "id": "15a36389",
   "metadata": {},
   "outputs": [],
   "source": [
    "HH, TT = np.meshgrid(offsets, times)"
   ]
  },
  {
   "cell_type": "code",
   "execution_count": null,
   "id": "b66e86b0",
   "metadata": {},
   "outputs": [],
   "source": [
    "pclip = 0.8\n",
    "vmax = (1.-pclip)*np.abs(rec_data).max()\n",
    "plt_data = rec_data.T\n",
    "\n",
    "fig, ax = plt.subplots(figsize=(15,9))\n",
    "im = ax.pcolormesh(HH, TT, plt_data, cmap='gray',vmin=-vmax,vmax=vmax)\n",
    "\n",
    "xlim = ax.get_xlim()\n",
    "tick_positions = np.linspace(xlim[0], xlim[1], 10)\n",
    "ax.set_xticks(tick_positions)\n",
    "\n",
    "ax.invert_yaxis()\n",
    "\n",
    "ax.set_title(f'Preprocessed REC-Gather-{rec_id} (All Sources)')\n",
    "ax.set_ylabel('time (s)')\n",
    "ax.set_xlabel('Offset (m)')\n",
    "plt.setp(ax.get_xticklabels(), rotation=45)\n",
    "plt.tight_layout()\n",
    "plt.show()"
   ]
  },
  {
   "cell_type": "markdown",
   "id": "f5ffbe56",
   "metadata": {},
   "source": [
    "## Create Midpoint-Bin Map"
   ]
  },
  {
   "cell_type": "markdown",
   "id": "17068669",
   "metadata": {},
   "source": [
    "### Create the Midpoint-Bin Headers"
   ]
  },
  {
   "cell_type": "code",
   "execution_count": 95,
   "id": "ca6e773a",
   "metadata": {},
   "outputs": [],
   "source": [
    "mid_noslack_df = tagslack_df[~tagslack_df['Is_Slack']].copy()"
   ]
  },
  {
   "cell_type": "code",
   "execution_count": 96,
   "id": "c437ed48",
   "metadata": {},
   "outputs": [],
   "source": [
    "mbin_size = 50\n",
    "\n",
    "mid_noslack_df['MidpointBinX'] = mbin_size*np.round((mid_noslack_df['SourceX'] - 0.5*mid_noslack_df['OffsetX'])/mbin_size)\n",
    "mid_noslack_df['MidpointBinY'] = mbin_size*np.round((mid_noslack_df['SourceY'] - 0.5*mid_noslack_df['OffsetY'])/mbin_size)"
   ]
  },
  {
   "cell_type": "markdown",
   "id": "2ffe3d66",
   "metadata": {},
   "source": [
    "### Calculate Lat-Lon Bins from Easting-Northing Bins"
   ]
  },
  {
   "cell_type": "code",
   "execution_count": 97,
   "id": "fc95af4a",
   "metadata": {},
   "outputs": [],
   "source": [
    "mid_eastnorth = list(mid_noslack_df[['MidpointBinX', 'MidpointBinY']].itertuples(index=False, name=None))\n",
    "\n",
    "zone_number = 13  # looked up\n",
    "zone_letter = 'N'\n",
    "\n",
    "mid_lats,mid_lons = zip(*[utm.to_latlon(e, n, zone_number, zone_letter) for e, n in mid_eastnorth])"
   ]
  },
  {
   "cell_type": "markdown",
   "id": "386441f9",
   "metadata": {},
   "source": [
    "### Add Midpoint Lat-Lon Bins to Header"
   ]
  },
  {
   "cell_type": "code",
   "execution_count": 98,
   "id": "2e23958d",
   "metadata": {},
   "outputs": [],
   "source": [
    "mid_noslack_df['MidpointBinLat'] = mid_lats\n",
    "mid_noslack_df['MidpointBinLon'] = mid_lons"
   ]
  },
  {
   "cell_type": "markdown",
   "id": "e53f8abe",
   "metadata": {},
   "source": [
    "### Slice/Filter for Lat-Lon Bin Coordinate Headers"
   ]
  },
  {
   "cell_type": "code",
   "execution_count": null,
   "id": "b2ddf35b",
   "metadata": {},
   "outputs": [],
   "source": [
    "mid_latlon_df = mid_noslack_df[['MidpointBinLat', 'MidpointBinLon']].drop_duplicates()\n",
    "display(mid_latlon_df)"
   ]
  },
  {
   "cell_type": "markdown",
   "id": "4d5f5f0b",
   "metadata": {},
   "source": [
    "### Show Field Map with Midpoint Lat-Lon Bins"
   ]
  },
  {
   "cell_type": "code",
   "execution_count": 100,
   "id": "49fb32c5",
   "metadata": {},
   "outputs": [],
   "source": [
    "m_width = 1200\n",
    "m_height = (1/1.66666)*m_width\n",
    "\n",
    "glst = []\n",
    "src_d = _make_marker_dict(src_latlon_df,kw_lat='SourceLat',kw_lon='SourceLon',color='red',mname='SRC',symbol='★')\n",
    "src_g = _make_folium_group_from_dict(src_d,gname='All Sources')\n",
    "rec_d = _make_marker_dict(rec_noslack_df,kw_lat='GroupLat',kw_lon='GroupLon',color='blue',mname='REC',symbol='▽',sympt='12')\n",
    "rec_g = _make_folium_group_from_dict(rec_d,gname='Channels')\n",
    "mid_d = _make_marker_dict(mid_latlon_df,kw_lat='MidpointBinLat',kw_lon='MidpointBinLon',color='yellow',mname='CMP',symbol='X',sympt='12')\n",
    "mid_g = _make_folium_group_from_dict(mid_d,gname='Midpoint-Bins')\n",
    "\n",
    "glst.append(rec_g)\n",
    "glst.append(src_g)\n",
    "glst.append(mid_g)\n",
    "\n",
    "clat,clon = _get_latlot_means(rec_latlon_df,kw_lat='GroupLat',kw_lon='GroupLon')\n",
    "\n",
    "base_map = _make_folium_base_map(clat,clon,zoom_start=14)\n",
    "\n",
    "my_map = _add_folium_groups_to_map(glst,base_map)"
   ]
  },
  {
   "cell_type": "code",
   "execution_count": null,
   "id": "e63e6cf3",
   "metadata": {},
   "outputs": [],
   "source": [
    "m_html = get_html_folium_map(my_map,width=m_width,height=m_height)\n",
    "display(m_html)"
   ]
  },
  {
   "cell_type": "code",
   "execution_count": null,
   "id": "cfbee06f",
   "metadata": {},
   "outputs": [],
   "source": [
    "mid_map_fname = data_path + '/midpt-bin_field_map.html'\n",
    "print(mid_map_fname)"
   ]
  },
  {
   "cell_type": "code",
   "execution_count": 103,
   "id": "1783b3f5",
   "metadata": {},
   "outputs": [],
   "source": [
    "# my_map.save(mid_map_fname)"
   ]
  }
 ],
 "metadata": {
  "kernelspec": {
   "display_name": "mypy312",
   "language": "python",
   "name": "python3"
  },
  "language_info": {
   "codemirror_mode": {
    "name": "ipython",
    "version": 3
   },
   "file_extension": ".py",
   "mimetype": "text/x-python",
   "name": "python",
   "nbconvert_exporter": "python",
   "pygments_lexer": "ipython3",
   "version": "3.12.3"
  }
 },
 "nbformat": 4,
 "nbformat_minor": 5
}
